{
 "cells": [
  {
   "cell_type": "markdown",
   "metadata": {},
   "source": [
    "# Problem: Classify given set of Pubmed abstracts (biomedical literature abstracts)"
   ]
  },
  {
   "cell_type": "markdown",
   "metadata": {},
   "source": [
    "# Task 1: Research design & data collection "
   ]
  },
  {
   "cell_type": "markdown",
   "metadata": {},
   "source": [
    "## 1.1 Research design & data collection - Abstracts containing Drug adverse events"
   ]
  },
  {
   "cell_type": "markdown",
   "metadata": {},
   "source": [
    "Keywords: “Adverse drug event*” or \"Adverse Reaction*\" or \"Adverse effects\" or \"Drug Toxicit*\"\n",
    "\n",
    "MeSH: \"Drug-Related Side Effects and Adverse Reactions\"[Mesh]\n",
    "\n",
    "Search string: "
   ]
  },
  {
   "cell_type": "code",
   "execution_count": 47,
   "metadata": {},
   "outputs": [
    {
     "name": "stdout",
     "output_type": "stream",
     "text": [
      "<ENTREZ_DIRECT>\r\n",
      "  <Db>pubmed</Db>\r\n",
      "  <WebEnv>MCID_6026ad61fa55a07a933c2d98</WebEnv>\r\n",
      "  <QueryKey>1</QueryKey>\r\n",
      "  <Count>2970</Count>\r\n",
      "  <Step>1</Step>\r\n",
      "</ENTREZ_DIRECT>\r\n"
     ]
    }
   ],
   "source": [
    "!esearch -db pubmed -query \"(\\\"Drug-Related Side Effects and Adverse Reactions\\\"[Mesh] OR Adverse Reaction*) AND human[Mesh] AND English[Language]\"  -days 450"
   ]
  },
  {
   "cell_type": "code",
   "execution_count": 9,
   "metadata": {},
   "outputs": [
    {
     "name": "stdout",
     "output_type": "stream",
     "text": [
      "33298757!Split!Personal Protective Equipment (PPE) in COVID 19 Pandemic: Related Symptoms and Adverse Reactions in Healthcare Workers and General Population.!Split!To assess prevalence of Personal Protective Equipment (PPE)-related symptoms and adverse reactions during Coronavirus Disease 2019 pandemics. We conducted an observational study among people exposed to various degree of infectious risk. Data were collected with a self-administered online questionnaire. The entire cohort complained about a wide range of adverse reactions: respiratory symptoms affected 80.3% of respondents, 68.5% referred pressure-related skin lesions, fewer manifested a dermatosis of different grade or ocular symptoms. Most of the affected individuals belonged to healthcare staff and manifestations were predicted by wearing time (more than 6 h/d). Moreover, symptoms were higher in the healthcare staff wearing N95/FFP2 respirator mask. Given the crucial role of PPE to contain the pandemic infection, more attention has to be paid to exposed categories, establishing preventive measure of side effects to ensure total safety.\r\n",
      "33075384!Split!Spontaneous reported cardiotoxicity induced by lopinavir/ritonavir in COVID-19. An alleged past-resolved problem.!Split!The antiretroviral drug lopinavir/ritonavir has been recently repurposed for the treatment of COVID-19. Its empirical use has been associated with multiple cardiac adverse reactions pertaining to its ancillary multi-channel blocking properties, vaguely characterized until now. We aimed to characterize qualitatively the cardiotoxicity associated with lopinavir/ritonavir in the setting of COVID-19. Spontaneous notifications of cardiac adverse drug reactions reported to the national Pharmacovigilance Network were collected for 8 weeks since March 1st 2020. The Nice Regional Center of Pharmacovigilance, whose scope of expertise is drug-induced long QT syndrome, analyzed the cases, including the reassessment of all available ECGs. QTc ≥ 500 ms and delta QTc > 60 ms from baseline were deemed serious. Twenty-two cases presented with 28 cardiac adverse reactions associated with the empirical use of lopinavir/ritonavir in a hospital setting. Most adverse reactions reflected lopinavir/ritonavir potency to block voltage-gated potassium channels with 5 ventricular arrhythmias and 17 QTc prolongations. An average QTc augmentation of 97 ± 69 ms was reported. Twelve QTc prolongations were deemed serious. Other cases were likely related to lopinavir/ritonavir potency to block sodium channels: 1 case of bundle branch block and 5 recurrent bradycardias. The incidence of cardiac adverse reactions of lopinavir/ritonavir was estimated between 0.3% and 0.4%. These cardiac adverse drug reactions offer a new insight in its ancillary multi-channel blocking functions. Lopinavir/ritonavir cardiotoxicity may be of concern for its empirical use during the COVID-19 pandemic. Caution should be exerted relative to this risk where lopinavir/ritonavir summary of product characteristics should be implemented accordingly.\r\n",
      "33053601!Split!Early phase dose-finding trials in virology.!Split!Little has been published in terms of dose-finding methodology in virology. Aside from a few papers focusing on HIV, the considerable progress in dose-finding methodology of the last 25 years has focused almost entirely on oncology. While adverse reactions to cytotoxic drugs may be life threatening, for anti-viral agents we anticipate something different: side effects that provoke the cessation of treatment. This would correspond to treatment failure. On the other hand, success would not be yes/no but would correspond to a range of responses, from small, no more than say 20% reduction in viral load to the complete elimination of the virus. Less than total success matters since this may allow the patient to achieve immune-mediated clearance. The motivation for this article is an upcoming dose-finding trial in chronic norovirus infection. We propose a novel methodology whose goal is twofold: first, to identify the dose that provides the most favorable distribution of treatment outcomes, and, second, to do this in a way that maximizes the treatment benefit for the patients included in the study.\r\n",
      "33085800!Split!Role of clinical pharmacists in telemonitoring for patients with Coronavirus Disease 2019 (COVID-19).!Split!Clinical pharmacists actively participate in patient care via patients' medication use. Yet the setting of Coronavirus Disease 2019 (COVID-19) limits patient contact with healthcare personnel. We aimed to review the services provided and drug-related problems detected using telemonitoring methods to guide clinical pharmacists in providing service in treating COVID-19 patients. At a tertiary care hospital in Thailand, clinical pharmacists provided pharmaceutical care services for COVID-19 patients via telemonitoring using the hospital's computerized physician order entry system. The pharmacists were able to provide therapeutic drug monitoring services, especially for anticoagulants. Many patients were considered special populations, with individualized requirements for drug dosing. Some adverse drug reactions were observed. Drug-related problems were mostly related to medication use in critically ill patients. Telemonitoring is a viable method for clinical pharmacists to provide pharmaceutical care and meet the challenges posed by treating patients with COVID-19.\r\n",
      "33514507!Split!Association between human papillomavirus vaccination and serious adverse events in South Korean adolescent girls: nationwide cohort study.!Split!To evaluate the association between human papillomavirus (HPV) vaccination and serious adverse events in adolescent girls in South Korea. Cohort study. A large linked database created by linking the Korea Immunization Registry Information System and the National Health Information Database, between January 2017 and December 2019. 441 399 girls aged 11-14 years who had been vaccinated in 2017: 382 020 had been vaccinated against HPV and 59 379 had not been vaccinated against HPV. Outcomes were 33 serious adverse events, including endocrine, gastrointestinal, cardiovascular, musculoskeletal, haematological, dermatological, and neurological diseases. A cohort design was used for the primary analysis and a self-controlled risk interval design for the secondary analysis; both analyses used a risk period of one year after HPV vaccination for each outcome. Incidence rate and adjusted rate ratios were estimated using Poisson regression in the primary analysis, comparing the HPV vaccinated group with the HPV unvaccinated group, and adjusted relative risks were estimated using conditional logistic regression in the secondary analysis. 920.9 for the vaccinated and unvaccinated groups; 1.11, 1.02 to 1.22). Secondary analysis using self-controlled risk intervals confirmed no associations between HPV vaccination and serious adverse events, including migraine (adjusted relative risk 0.67, 95% confidence interval 0.58 to 0.78). Results were robust to varying follow-up periods and for vaccine subtypes. In this nationwide cohort study, with more than 500 000 doses of HPV vaccines, no evidence was found to support an association between HPV vaccination and serious adverse events using both cohort analysis and self-controlled risk interval analysis. Inconsistent findings for migraine should be interpreted with caution considering its pathophysiology and the population of interest.\r\n",
      "33421347!Split!Drug-drug interactions with candidate medications used for COVID-19 treatment: An overview.!Split!Drug-drug interaction (DDI) is a common clinical problem that has occurred as a result of the concomitant use of multiple drugs. DDI may occur in patients under treatment with medications used for coronavirus disease 2019 (COVID-19; i.e., chloroquine, lopinavir/ritonavir, ribavirin, tocilizumab, and remdesivir) and increase the risk of serious adverse reactions such as QT-prolongation, retinopathy, increased risk of infection, and hepatotoxicity. This review focuses on summarizing DDIs for candidate medications used for COVID-19 in order to minimize the adverse reactions.\r\n",
      "33452692 33306204!Split!There are no \"side\" effects, just \"core\" effects of antipsychotic pharmacotherapy.!Split!Abstract Not Available\r\n",
      "33245507 32978702!Split!Sex Differences in Lopinavir Concentrations and Occurrence of Marked QTc Prolongation Episodes in Patients with COVID-19.!Split!Abstract Not Available\r\n",
      "33509333!Split!Pulmonary Manifestations of Rheumatoid Arthritis.!Split!In order for pharmacists to better assist providers and patients and improve therapeutic outcomes, it is important for pharmacists to understand that pulmonary manifestations are common in patients having rheumatoid arthritis as well as with drugs used to treat rheumatoid arthritis.\r\n",
      "33503163!Split!Adverse drug reactions in patients with COVID-19 in Brazil: analysis of spontaneous notifications of the Brazilian pharmacovigilance system.!Split!In March 2020, the World Health Organization announced the new COVID-19 pandemic, which represented a challenge for health services and professionals. An effective treatment against this disease has not yet been developed; as such, several drugs are used without evidence of efficacy, which in some cases may lead to unwanted events. This is a cross-sectional study with the objective of evaluating adverse drug reactions (ADRs) in patients with COVID-19, identified between March 1 and August 15, 2020, in Brazil, as well as assessing the factors associated with the emergence of severe reactions. To compare the proportions of samples related to the notifier, patient, drugs and adverse events, we used Fisher's chi-square and exact nonparametric tests; and to compare the means of the data with normal distribution, we used the Student's t-test and Mann-Whitney's test. A multivariate logistic regression analysis was also performed, estimating the crude and adjusted odds ratio (OR) by the Stata software, version 10.0. A total of 631 ADRs were identified in 402 patients. The main drugs were hydroxychloroquine (59.5%), azithromycin (9.8%) and chloroquine (5.2%). The reactions manifested primarily in the cardiac system (38.8%), gastrointestinal system (14.4%), skin tissue (12.2%) and hepatic system (8.9%). Chloroquine (OR = 5.4; 95%CI: 1.9-15.6) and hydroxychloroquine (OR = 2.1; 95CI%: 1.2-3.6) were the only drugs associated with severe ADR. Our findings provide support for better practices in pharmacovigilance, contributing to effective and secure regulatory decision-making by the Brazilian Health Regulatory Agency, patients and society as a whole. Em março de 2020, a Organização Mundial da Saúde anunciou a nova pandemia denominada de COVID-19, representando um desafio para os profissionais e serviços de saúde. Ainda não foi identificado um tratamento eficaz contra essa doença e vários fármacos são utilizados sem evidências de sua eficácia, que em alguns casos pode causar eventos indesejados. Esse é um estudo transversal com o objetivo de avaliar as reações adversas a medicamentos (RAMs) nos pacientes com COVID-19, identificadas entre 1º de março e 15 agosto de 2020 no Brasil, e os fatores associados ao surgimento de reações graves. Para comparar as proporções das amostras relacionadas ao notificador, paciente, fármacos e eventos adversos utilizamos os testes não paramétricos qui-quadrado e exato de Fisher, e para comparar as médias dos dados com a distribuição normal foi usado o teste t e de Mann-Whitney. Também foi realizada a análise de regressão logística multivariável, estimando as odds ratio (OR) brutas e ajustadas pelo software Stata, versão 10.0. Foram identificadas 631 RAMs em 402 pacientes. Os medicamentos mais envolvidos foram hidroxicloroquina (59,5%), azitromicina (9,8%) e a cloroquina (5,2%). As reações se manifestaram prioritariamente no sistema cardíaco (38,8%), gastrointestinal (14,4%), tecido cutâneo (12,2%) e hepático (8,9%). A cloroquina (OR = 5,4; IC95%: 1,9-15,6) e a hidroxicloroquina (OR = 2,1; IC95%: 1,2-3,6) foram os únicos medicamentos associados a RAM grave. Nossos achados fornecem subsídios para melhores práticas em farmacovigilância, contribuindo para tomadas de decisões regulatórias efetivas e seguras pela Agência Nacional de Vigilância Sanitária, para os pacientes e toda a sociedade. En marzo de 2020 la Organización Mundial de la Salud anunció la nueva pandemia denominada COVID-19, representando un desafío para los profesionales y servicios de salud. Todavía no se identificó un tratamiento eficaz contra esta enfermedad y varios fármacos se utilizan sin evidencias de su eficacia, que, en algunos casos, pueden causar eventos indeseados. Este es un estudio transversal, con el objetivo de evaluar las reacciones adversas a medicamentos (RAMs) en pacientes con COVID-19, identificadas desde el 1º de marzo al 15 agosto de 2020 en Brasil, y los factores asociados al surgimiento de reacciones graves. Para comparar las proporciones de las muestras relacionadas con el notificador, paciente, fármacos y eventos adversos, utilizamos los tests no paramétricos chi-cuadrado y exacto de Fisher, y para comparar las medias de los datos con la distribución normal, se utilizó el test t y de Mann-Whitney. También se realizó un análisis de regresión logística multivariable, estimando las odds ratio (OR) brutas y ajustadas, mediante el software Stata, versión 10.0. Se identificaron 631 RAMs en 402 pacientes. Los medicamentos más implicados fueron: hidroxicloroquina (59,5%), azitromicina (9,8%) y la cloroquina (5,2%). Las reacciones se manifestaron prioritariamente en el sistema cardíaco (38,8%), gastrointestinal (14,4%), tejido cutáneo (12,2%) y hepático (8,9%). La cloroquina (OR = 5,4; IC95%: 1,9-15,6) e hidroxicloroquina (OR = 2,1; IC95%: 1,2-3,6) fueron los únicos medicamentos asociados a RAM grave. Nuestros resultados proporcionan apoyo para mejores prácticas en farmacovigilancia, contribuyendo a las tomas de decisiones regulatorias efectivas y seguras, por parte de la Agencia Nacional de Vigilancia Sanitaria, para los pacientes y toda la sociedad.\r\n",
      "33530221!Split!Traditional Chinese medicine on treating myelosuppression after chemotherapy: A protocol for systematic review and meta-analysis.!Split!Myelosuppression after chemotherapy is a common adverse reaction in the process of chemotherapy, mainly manifested as anemia, increased risk of bleeding, infection, the results seriously affect the quality of life and prognosis of patients, become the main cause of death. Since ancient times, traditional Chinese medicine (TCM) has been widely used in East Asia (such as China, Japan, South Korea) in the clinical treatment of bone marrow suppression after chemotherapy, which plays the role of synergism, toxicity reduction, immune regulation, and gradually developed into an indispensable role. Therefore, the purpose of this study was to use a network meta-analysis to evaluate the evidence that traditional Chinese medicine is related to the efficacy and safety of chemotherapy-induced myelosuppression. This study will search the following Chinese and English databases electronically: 4 Chinese literature databases, including China biology and medicine database, China National Knowledge Infrastructure, VIP, and Wan fang database, and 3 British literature databases including PubMed, EMBASE, and Cochrane Library. The search keywords were (traditional Chinese medicine or medicinal plants or extracts of traditional Chinese medicine or traditional Chinese medicine formula or preparation) and (myelosuppression after chemotherapy) and (randomized controlled trials) (RCTs). The search time limit is set to December 2020, and Chinese and English languages will be included. The included subjects must be diagnosed with myelosuppression after chemotherapy and RCTs should be conducted at the same time. The main outcome was elevated hemoglobin, platelets, leukocytes, and neutrophils. The secondary results were reticulocyte absolute value, reticulocyte percentage, low-fluorescence reticulocyte red, medium-fluorescent reticulocyte red, and high-fluorescence reticulocyte red. We will conduct a risk and quality assessment of the included studies using the Cochrane tool, and carefully calculate data synthesis after meta-analysis using Rev Man software (version 5.3.5) and R software (version 3.6.1). The study is aim to evaluate the efficacy and safety of the treatment that traditional Chinese medicine for myelosuppression after chemotherapy. This study of the meta-analysis could provide evidence for clinicians and help patients to make a better choice. INPLASY2020120097.\r\n",
      "33360842!Split!Efficacy and safety of yinqiao powder combined with western medicine in the treatment of pneumonia: A systematic review and meta-analysis.!Split!This review aimed at systematically evaluating the efficacy and safety of Yinqiao powder combined with western medicine in the treatment of pneumonia. A systematic search for randomized controlled trials (RCTs) focusing on pneumonia treatment using a combination of Yinqiao powder and western medicine was performed in PubMed, the Cochrane Library, EMBASE, Web of Science, CNKI, Wanfang, Weipu (VIP) and CBM. The retrieval time limit was from the establishment of the database to June 2020. Two researchers independently screened the literature, extracted the data and evaluated the bias risk of the included studies. A meta-analysis was performed using RevMan5.3 software. Quality of evidence was assessed using the Grading of Recommendations Assessment, Development and Evaluation (GRADE) approach. Fifteen RCTs involving 1705 patients were included in the analysis. The meta-analysis results revealed the total effective rate of the treatment group [RR = 1.21, 95% CI (1.15, 1.27), P < 0.00001], bacterial clearance rate [RR = 1.13, 95% CI (1.05, 1.22), P = 0.001], adverse reactions [RR = 0.54, 95% CI (0.38, 0.76), P = 0.0005]. There were statistically significant differences in the cooling time, T cell number, procalcitonin (PCT) and C-reactive protein (CRP) value decline rate (P < 0.05). There was no statistically significant difference in the decline rate of neutrophils and leukocytes (P > 0.05). The current evidence indicated that the Yinqiao powder combined with western medicine can improve total efficiency in the treatment of pneumonia patients. The combination therapy performed better when compared to western medicine alone in the cooling time, bacterial clearance rate, T cell count, decline rates of CRP and PCT as well as in the incidences of adverse reactions. However, there was no significant difference in the decline rates of neutrophils and leucocytes between the two groups. The funnel plot, Egger's test and Begg's test indicated publication bias, which may be associated with unpublished negative study results. Due to the limitation of the quality and quantity of the included studies, more high-quality studies should be performed to verify our conclusions.\r\n",
      "33349926 32124975 33349919!Split!Sodium-glucose cotransporter type 2 inhibitors: managing the small but critical risk of diabetic ketoacidosis.!Split!Abstract Not Available\r\n",
      "33035492!Split!Is Preoperative Administration of Tranexamic Acid Effective on Blood Loss Reduction in Mandibular Fracture Surgeries? A Triple-Blind Randomized Clinical Trial.!Split!Hemorrhage is one of the significant factors that cause adverse reactions and complications during trauma management. This study aimed to investigate the effectiveness of preoperative tranexamic acid (TXA) administration on intraoperative blood loss in mandibular fracture surgeries. The authors implemented a triple blinded randomized clinical trial. All healthy young patients who suffered from bilateral displaced mandibular angle and body fractures were included in this study. All operations were performed using open reduction and internal fixation by the same surgical team. The eligible subjects were randomly divided into 2 equal groups. The anesthesiology staff administered the intravenous TXA (20 mg/kg) to the intervention group and 20 mL of intravenous normal saline (0.09%) in the control group, 30 minutes preoperatively. The study outcome variables included intraoperative blood loss and hemoglobin loss. The data were statistically analyzed in SPSS, version 20 (SPSS Inc, Chicago, IL). Fifty patients, including 31 males (62%) and 19 females (38%), with the mean age of 28 ± 5.6 years were studied. The mean blood loss was 360.57 ± 173.5 mL and 560.9 ± 248.07 mL in the TXA and control groups, respectively. This difference was statistically significant (P = .008). In addition, the mean drop in hemoglobin value was 0.91 ± 0.33 mg/dL in the intervention group and 1.44 ± 0.45 mg/dL in the control group, with a significant difference (P = .001). No adverse effect was observed in the TXA cases. TXA is a safe and effective drug for reducing intraoperative blood loss in patients who underwent mandibular fracture open reduction and internal fixation surgeries.\r\n",
      "33463598!Split!Resurgence of combined intravenous Ketamine and regional anesthesia in pediatric ocular surgery in COVID-19 pandemic.!Split!The current pandemic of COVID-19 has made airway procedures like intubation and extubation, potential sources of virus transmission among health care workers. The aim of this work was to study the safety profile of combined ketamine and regional anesthesia in pediatric ocular surgeries during the COVID-19 pandemic. This prospective study included pediatric patients undergoing ocular surgery under general anesthesia from April to October 2020. Children were premedicated with oral midazolam (0.25-0.50 mg/kg) or intramuscular ketamine (7-10 mg/kg), ondensetron (0.1 mg/kg) and atropine (0.02 mg/kg). Anesthesia was achieved with intravenous ketamine (4-5 mg/kg) and local anesthesia (peribulbar block or local infiltration). The patient's vital signs were monitored. Serious complications and postoperative adverse reactions related to anesthesia were documented. A total of 55 children (62 eyes) were operated. Lid tear was the most common surgical procedure performed [n = 18 (32.7%)]. Dose of ketamine needed ranged from 30 to 120 mg (66.67 ± 30.45). No intubation or resuscitation was needed. Four children complained of nausea and two needed an additional dose of intravenous ondansetron due to vomiting in the post-operative period. Incidence of postoperative nausea and vomiting was not affected by age, duration of surgery or dose of ketamine used (P > 0.05). There was no correlation between increase in pulse and dose of ketamine. Combined ketamine and regional anesthesia is a safe and effective alternative to administer anesthesia in a child during ocular surgeries.\r\n",
      "33316296!Split!A retrospective evaluation of eastern coral snake envenomation and antivenom administration in cats: 30 cases (2012-2019).!Split!Thirty cats were identified to be have been suspected to have a potential coral snake envenomation after searching medical records from 2012 to 2019 at a university teaching hospital. The records were reviewed and evaluated for signalment, date and time of the snake encounter, elapsed time between encounter and hospital examination, presenting complaint, initial physical examination findings, initial laboratory findings, antivenom dose and duration of administration, adverse reactions to antivenom, additional treatments administered, progression of clinical signs, length of hospitalization, and outcome. Thirteen cats presented with clinical signs consistent with envenomation while 17 cats were treated for possible asymptomatic envenomation, as defined by the owner discovering a live or dead coral snake in their home or on their property. Initial physical examination findings included tachypnea with short shallow breaths and use of accessory muscles; tetraparesis with normal or decreased to absent spinal reflexes; cranial nerve deficits including decreased to absent gag, slow pupillary light reflexes, and absent physiologic nystagmus; and normal or altered mentation. Laboratory findings included hypercapnia, hyperglycemia, hypokalemia, increased aspartate aminotransferase activity, increased alanine aminotransferase activity, echinocytosis, leukocytosis, azotemia, and hyperlactatemia. Twenty-eight cats received antivenom; two cats received two vials while twenty-six cats received one vial. Antivenom reaction was suspected in one cat that developed facial swelling during administration of the drug. Average length of hospitalization was 1 day for cats without clinical signs and 3 days for cats with clinical signs. Twenty-nine cats survived to discharge. Due to the inclusion criteria of the study, cats euthanized on presentation or discharged without receiving antivenom may have been unintentionally excluded from the study. Diagnosis of eastern coral snake envenomation should be suspected in the cat that has acute onset of lower motor neuron neuropathy. Prognosis with treatment is considered good with 97% of cats surviving to discharge. Antivenom reaction occurred in 3.5% of administrations with none being fatal. Monitoring of hypercapnia was critical in making the decision to mechanically ventilate patients. Supportive care that includes antivenom administration, recumbency care, and mechanical ventilation if needed are the mainstays of therapy.\r\n",
      "33530226!Split!Efficacy and safety of TCM therapies combined with hyperthermic intraperitoneal chemotherapy for peritoneal metastasis of gastric cancer: A protocol for systematic review and meta-analysis.!Split!Gastric cancer (GC) has high incidence and mortality worldwide, and peritoneal metastasis is a primary cause of mortality in patients. Hyperthermic intraperitoneal chemotherapy (HIPEC) is a feasible and effective treatment. Traditional Chinese Medicine (TCM) therapies have been combined with HIPEC for certain therapeutic advantages, but there is a lacking of evidence of evidence-based medicine. Therefore, we provide a protocol to evaluate the efficacy and safety of TCM therapies combined with HIPEC in the treatment for peritoneal metastasis of GC. From inception until December 2020, a systematic and comprehensive literature search will be conducted in both 3 English databases and 4 Chinese databases. Randomized controlled trials (RCTs) will be included related to TCM therapies combined with HIPEC in the treatment for peritoneal metastasis of GC. Two researchers independently conducted data extraction and literature quality evaluation. The methodological qualities, including the risk of bias, will be evaluated using the Cochrane risk of bias assessment tool, while confidence in the cumulative evidence will be evaluated using the Grading of Recommendations Assessment, Development and Evaluation (GRADE) approach. This study assessed the efficacy and safety of TCM therapies combined with HIPEC in the treatment of peritoneal metastasis of GC by effective rate, Karnofsky Performance Status (KPS), Carcinoemybryonic Angtigen remission rate, and incidence of adverse reactions etc. This study will provide reliable evidence-based evidence for the clinical application of TCM therapies combined with HIPEC in the treatment for peritoneal metastasis of GC. Ethical approval is not required, as this study is based on the review of published research. This review will be published in a peer-reviewed journal and disseminated both electronically and in print. INPLASY2020120048.\r\n",
      "33530168!Split!The laser combined with intravitreal injection of ranibizumab for treatment of macular edema secondary to branch retinal vein occlusion: A protocol for systematic review and meta-analysis.!Split!At present, laser is regarded as an effective treatment for macular edema secondary to branch retinal vein occlusion. With the breakthrough of anti-vascular endothelial growth factor drugs in ophthalmology clinical research, the intravitreal injection of ranibizumab is widely applied, but both methods have their limitations, so some clinical studies have combined and applied them together. However, the clinical results are inconsistent and controversial, and there is no relevant system evaluation for the laser combined with intravitreal injection of ranibizumab for treatment of macular edema secondary to branch retinal vein occlusion now. Meta analysis is used to analyze and evaluate the effectiveness and safety of the laser combined with intravitreal injection of ranibizumab for treatment of macular edema secondary to branch retinal vein occlusion. CNKI, VIP, WANFANG, China Biology Medicine disc, Web of Science, PubMed, Embase, Cochrane Library have used random controlled clinical trial of laser combined with intravitreal injection of ranibizumab for treatment of macular edema secondary to branch retinal vein occlusion from the establishment of the database to October 2020. Two researchers conducted independent screening, quality assessment and data extraction for the literatures, and used RevMan5.3 to conduct Meta analysis for the included literatures. The research has evaluated the effectiveness and safety of the laser combined with intravitreal injection of ranibizumab for treatment of macular edema secondary to branch retinal vein occlusion through the aspects of the best corrected visual acuity 6 months after operation, macular center thickness and the incidence of adverse reactions such as elevated intraocular pressure, endophthalmitis, vitreous hemorrhage and cataract. Laser combined with intravitreal injection of ranibizumab for treatment of macular edema secondary to branch retinal vein occlusion has good effect, and the research has provided reliable evidence for the use of clinical treatment of the laser combined with intravitreal injection of ranibizumab for treatment of macular edema secondary to branch retinal vein occlusion.\r\n",
      "33390565!Split!The Clinical Efficacy of N-Acetylcysteine in the Treatment of ST Segment Elevation Myocardial Infarction.!Split!The aim of this study was to evaluate the clinical efficacy of N-acetylcysteine (NAC) in the treatment of ST segment elevation myocardial infarction (STEMI).PubMed, EMBASE, Cochrane Library, and Web of Science were searched systematically from the establishment of the database to June 2020. Two researchers independently completed literature screening and data extraction and conducted a meta-analysis.Nine articles including 1419 patients were enrolled. Meta-analysis showed that all-cause mortality [RR = 0.56, 95%CI (0.33, 0.93), P = 0.02], occurrence of major adverse cardiovascular events (MACE) [RR = 0.63, 95%CI (0.47, 0.85), P = 0.002], and myocardial enzyme hs-TnT level [SMD = -0.42, 95%CI (-0.71, -0.13), P = 0.005] were significantly lower in patients with STEMI treated with NAC than those in the control group. There was no significant difference between the NAC group and the control group in new congestive heart failure [RR = 0.94, 95%CI (0.48, 1.82), P = 0.84], ejection fraction [MD = 2.00, 95%CI (-0.59, 4.60), P = 0.13], and CK-MB [SMD = -0.18, 95%CI (-0.47, 0.11), P = 0.23]. There was no significant difference in the occurrence of adverse reactions between the NAC group and the control group [RR = 1.04, 95%CI (0.57-1.89), P = 0.90].NAC can reduce the all-cause mortality and MACE cases of STEMI.\r\n",
      "33517299!Split!Adverse Events and Economic Burden Among Patients Receiving Systemic Treatment for Mantle Cell Lymphoma: A Real-World Retrospective Cohort Study.!Split!Limited published real-world data describe adverse events (AEs) among patients treated for mantle-cell lymphoma (MCL). The aim of this retrospective study was to describe treatment patterns, AEs, and associated healthcare costs. Patients had two or more claims coded for MCL diagnosis, the first claim date (07/01/2012-05/31/2017) was the index date. Patients with pre-index MCL diagnosis or systemic treatment, or hematopoietic stem cell transplantation were excluded. Cohorts by regimen were followed for up to three lines of therapy. Patients (n=395; median age 72 years; 31% female) were observed over a total of 576 lines of therapy, the most common being bendamustine plus rituximab; rituximab monotherapy; R-CHOP; and ibrutinib. The most frequent AEs were hypertension (40.5%), anemia (37.7%), and infection (36.1%). However, hepatotoxicity ($19,645), stroke ($18,893), and renal failure ($9,037) were associated with the highest medical costs per patient per month. Among patients receiving common systemic treatments for MCL, AEs occurred frequently; some imposed substantial inpatient care costs.\r\n",
      "33402301!Split!Suspected cholestatic liver injury induced by favipiravir in a patient with COVID-19.!Split!Favipiravir is an antiviral drug that is expected to have a therapeutic effect on SARS-CoV2 infection. Teratogenicity and hyperuricemia are known as the main side effects of favipiravir, but little is known about other side effects. This report describes a case of cholestatic liver injury induced by favipiravir. A 73-year-old Japanese with a history of alcoholic hepatitis was infected with SARS-CoV2. Drug therapy was instituted with lopinavir/ritonavir combined with interferon β-1b. However, his condition worsened despite additional support with continuous hemodiafiltration and veno-venous extracorporeal membrane oxygenation. We suspected complications of bacterial pneumonia and started favipiravir in addition to antimicrobial therapy. Favipiravir was administered at 6000 mg/day on the first day and 2400 mg/day for the second and subsequent days for 14 days. After the initiation of antibiotics, transaminase and total bilirubin were elevated, suggesting a transient cholestasic liver dysfunction. The liver dysfunction in this case may have been triggered by antibacterial treatment, and high dose of favipiravir may have promoted the deterioration of liver function. Monitoring of liver function is vital and close attention should be paid when using favipiravir at high doses or in patients with impaired liver function.\r\n",
      "33148487!Split!Burn Unit admission and management protocol during COVID-19 pandemic.!Split!The actual epidemic outbreak is the third time in the last two decades in which a coronavirus results in a major global spread with serious consequences in terms of vastity of affected patients, life losses, health system organization efforts and socio-economic implications. Lacking effective therapies and vaccinations, during viral outbreak the major and most incisive mean for viral spread control is spread prevention, especially for the fragile burn-injured patients we are called to care for in Burn Units. We developed an admission and inpatient management protocol to preserve burn patients from SARS-CoV-2 contagion, in order to avoid additional morbidity and mortality in patients with already compromised health conditions. Data from burn-injured patients admitted to our Unit following this new protocol were retrospectively analyzed in order to verify its effectiveness in prevention of viral spread. From the 8th of March to the 8th of June, we admitted 18 patients in the Burn Unit ICU and semi-ICU and 17 patients in the Burn Ward. Two of them resulted positive to COVID-19 nasopharyngeal swab and bronchoalveolar lavage collected immediately on admission, for both the extension of burns and their general clinical conditions implied ICU admission. Moreover, a caregiver of an admitted child resulted positive to the nasopharyngeal swab. No other cases of SARS-CoV-2 positivity have been reported neither between hospitalized patients nor between healthcare workers. The evidence of high ICU admission rate and high mortality in patients affected by SARS-CoV-2 combined with the fragile clinical conditions of burn patients required the development of an admission and hospitalization management protocol.\r\n",
      "32988758!Split!COVID 19 and liver: An A-Z literature review.!Split!The coronavirus pandemic has changed the priorities of the whole medical society. During the clinical course of COVID-19, it has been observed that hepatic injury occurs in a significant proportion of patients, particularly in those with severe or critical illness. In this literature review, we summarize the most recent studies, which covered the pathophysiology of COVID-19 induced liver injury including; hepatic pathological findings, therapy related liver damage, and the effects of the viral infection on pre-existing liver diseasesin context of the most recent recommendations. Conclusions: This review sheds light on the impact of COVID-19 infection on the liver, as well as the prognostic effect of liver laboratory markers on disease outcome. Temporal variations in liver parameters during disease course as well as different patterns of derangement are depicted. More intensive surveillance and individualized therapeutic approaches should be tailored for immunocompromised patients with advanced liver disease, hepatocellular carcinoma, and liver transplant patients. Despite the limited studies on COVID-19 infected patients with preexisting liver disease, this comprehensive overview provides a perspective on the management of liver disease during COVID-19.\r\n",
      "32970885 32735713!Split!Comment on 'Drug reaction with eosinophilia and systemic symptoms syndrome in a patient with COVID-19': involvement of herpesvirus reactivations and adverse drug reactions in diverse cutaneous manifestations and overall disease severity of COVID-19.!Split!Abstract Not Available\r\n",
      "33259895!Split!The potential diagnostic and therapeutic applications of exosomes in drug-induced liver injury.!Split!Drug-induced liver injury (DILI) has gradually become a global public medical problem, which can be caused by more than 1000 currently available drugs. Unfortunately, the diagnosis and treatment of DILI are limited and imperfect. Exosomes can be secreted by a variety of cells and tissues in the body, rich in cell-type specific proteins, nucleic acids and lipids, which has been widely studied as an important intercellular communication vehicle in liver diseases. Emerging data suggest that circulating exosomes and their cargos can be used as minimally-invasive sources of potential molecular biomarkers for the early detection, monitoring and evaluation of DILI. Exosomes in the urine were also found to contain proteins or RNAs that were indicative of DILI. In addition, exosomes derived from mesenchymal stem cell or hepatocyte are considered potential therapeutic agents to promote liver regenerative responses, modulate inflammatory response and deduce hepatocytes apoptosis. Based on the current findings, we suggest the potential applications of exosomes as biomarkers and therapeutics for DILI.\r\n",
      "33500617!Split!Reactive Oxygen Species-Mediated Inflammation and Apoptosis in Hand-Foot Syndrome Induced by PEGylated Liposomal Doxorubicin.!Split!(PEGylated liposomal doxorubicin, PLD) has been widely used in cancer treatment due to its excellent therapeutic efficacy, but it can simultaneously cause severe adverse effects such as hand-foot syndrome (HFS). To date, the pathophysiologic mechanism of HFS development induced by PLD administration has not been well understood. The histological features of skin lesion in PLD-induced HFS model were characterized by hematoxylin and eosin (H&E) staining and picrosirius red staining, and the induction of inflammation and apoptosis in the epidermal layer was detected by immunohistochemical and TUNEL staining. Moreover, the generation of reactive oxygen species (ROS) was determined to elucidate the potential mechanism of skin lesion in the development of HFS. The administration of PLD has been demonstrated to induce the histological damage of skin tissues including the destruction of collagen fibers and the induction of severe inflammation and apoptosis of epidermal cells. The mechanism was probably attributed to the accumulation of PLD in the skin tissues during the long-term circulation and further the induction of ROS to cause the oxidative damage of keratinocytes owing to the sustained release of doxorubicin from PLD. The ROS generation induced by the administration of PLD has been identified to be a crucial factor in the development of HFS, which could be used as a potential therapeutic target to alleviate the HFS symptom of PLD administration.\r\n",
      "33396050!Split!Associations between and risks of trace elements related to skin and liver damage induced by arsenic from coal burning.!Split!Long-term exposure to high levels of arsenic has been documented to induce skin and liver damage, affecting hundreds of millions of people. While arsenic-induced skin and liver damage and trace element alterations have been studied, their correlations and risks have not been explained. Based on the above premise, this study included a total of 172 subjects from a coal-burning arsenic poisoning area. The levels of 18 trace elements in hair and six liver function indices in serum were detected, and the associations between and risks of trace elements related to skin and liver damage were analyzed. Finally, the receiver operating characteristic (ROC) curve and areas under the curve (AUC) were used to analyze the diagnostic values of certain trace elements for arsenic-induced skin and liver damage. The results found that a decrease in Se was a risk factor for arsenic-induced skin and liver damage (OR = 8.33 and 1.92, respectively). Furthermore, increases in Al and V were risk factors for arsenic-induced skin damage (OR = 1.05) and liver damage (OR = 13.16), respectively. In addition, the results found that Se and Al possessed certain diagnostic values for arsenic-induced skin damage (AUC = 0.93, 0.80), that Se possessed a diagnostic value for liver damage (AUC = 0.93), and that the combination of Se and Al increased the diagnostic value for skin damage (AUC = 0.96). This study provides an important research basis for further understanding the reasons for arsenic-induced skin and liver damage, for screening and identifying candidate diagnostic biomarkers, and for improving prevention and control strategies for arsenism.\r\n",
      "33096358!Split!Curcumin ameliorates mercuric chloride-induced liver injury via modulating cytochrome P450 signaling and Nrf2/HO-1 pathway.!Split!toxicity.\r\n",
      "33466156!Split!Herb-induced autoimmune-like hepatitis associated with Xiang-tian-guo (Swietenia macrophylla seeds): A case report and literature review.!Split!Drug-induced liver injury (DILI) has a relatively low incidence, whereas the incidence of herb-induced liver injury (HILI) is still under investigation. As a special type of DILI, the diagnosis of drug-induced autoimmune-like hepatitis presents a persistent challenge, because this condition has partial characteristics of both DILI and autoimmune hepatitis (AIH), such as a certain history of medication use and histology that similar is to AIH. Thus, the differential diagnosis between DILI and AIH can be confusing. A 67-year-old woman taking xiang-tian-guo for 6 months was admitted to our hospital with a complaint of experiencing jaundice for 2 weeks. A liver biopsy exhibited interface inflammation, foam cells, and \"rosette\" -like hepatocytes. She was diagnosed with herb-induced liver injury (hepatocellular and acute), a RUCAM score of 7 (probable), a severity for grade 4 liver injury, and accompanied autoimmune-like changes. The patient was instructed to cease the administration of suspicious drugs. The patient also received liver protection and albumin transfusion. After 25 days of hospitalization, the patients aminotransferase levels returned to normal. No recurrence was observed after the administration of the treatments and a close follow-up. We must to be vigilant about the safety of xiang-tian-guo as a herbal medicine. When faced with the difficulty of distinguishing between AIH and DILI, long-term follow-up observations for recurrence can aid clinicians in making a judgment.\r\n",
      "33461962!Split!Vaccinating against covid-19 in people who report allergies.!Split!Abstract Not Available\r\n",
      "33309543!Split!A mechanism of perhexiline's cytotoxicity in hepatic cells involves endoplasmic reticulum stress and p38 signaling pathway.!Split!Perhexiline is a coronary vasodilator for angina treatment that was first developed in the 1960s. Perhexiline enjoyed worldwide success before reports of severe side effects, such as hepatotoxicity and neurotoxicity, caused its withdrawal from most of the markets. The underlying mechanism of the cytotoxicity of perhexiline, however, is not yet well understood. Here we demonstrated that perhexiline induced cellular damage in primary human hepatocytes, HepaRG cells and HepG2 cells. Analysis of gene and protein expression levels of endoplasmic reticulum (ER) stress markers showed that perhexiline caused ER stress in primary human hepatocytes and HepG2 cells. The splicing of XBP1 mRNA, a hallmark of ER stress, was observed upon perhexiline treatment. Using Gluc-Fluc-HepG2 cell line, we demonstrated that protein secretion was impaired upon perhexiline treatment, suggesting functional deficits in ER. Inhibition of ER stress using ER inhibitor 4-PBA or salubrinal attenuated the cytotoxicity of perhexiline. Directly knocking down ATF4 using siRNA also partially rescued HepG2 cells upon perhexiline exposure. In addition, inhibition of ER stress using either inhibitors or siRNA transfection attenuated perhexiline-induced increase in caspase 3/7 activity, indicating that ER stress contributed to perhexiline-induced apoptosis. Moreover, perhexiline treatment resulted in activation of p38 and JNK signaling pathways, two branches of MAPK cascade. Pre-treating HepG2 cells with p38 inhibitor SB239063 attenuated perhexiline-induced apoptosis and cell death. The inhibitor also prevented the activation of CHOP and ATF4. Overall, our study demonstrated that ER stress is one important mechanism underlying the hepatotoxicity of perhexiline, and p38 signaling pathway contributes to this process. Our finding shed light on the role of both ER stress and p38 signaling pathway in drug-induced liver injury.\r\n",
      "33275984!Split!The role of taurine on chemotherapy-induced cardiotoxicity: A systematic review of non-clinical study.!Split!Although chemotherapeutic agents have highly beneficial effects against cancer, they disturb the body's normal homeostasis. One of the critical side effects of chemotherapeutic agents is their deleterious effect on the cardiac system, which causes limitations of their clinical usage. Taurine constitutes more than 50% of the amino acids in the heart. The use of taurine might prevent chemotherapy-induced cardiotoxicity. This systematic study aims to evaluate the protective role of taurine against cardiotoxicity induced by chemotherapy. A systematic search was performed in databases up to November 2020, and the review is designed on PRISMA guidelines. The search keywords were selected based on our study target and were searched in the title and abstract. After the consecutive screening, out of a whole of 94 articles, 8 articles were included according to our inclusion and exclusion criteria. According to the study results, chemotherapy decreases body and heart weight and increases mortality. Also, it induces some biochemical and histological changes compared to the control group. By co-administration of taurine with chemotherapy, alterations returned near to the average level. These protective effects of taurine are mediated through anti-oxidant, anti-inflammatory, and anti-apoptotic properties. Based on evaluated non-clinical studies, taurine ameliorates chemotherapy-induced cardiotoxicity, but its possible interaction with the efficacy of anti-cancer medicines that mostly act through induction of oxidants remains to be elucidated in the future. This needs conducting well-designed studies to assess the effectiveness and safety of this combination simultaneously.\r\n",
      "33482756!Split!Epidemiological survey and screening strategy for dengue virus in blood donors from Yunnan Province.!Split!Dengue virus (DENV) infection is increasingly common in southern China and can be transmitted through blood transfusion but is not currently part of donor screening throughout the region. We assessed DENV prevalence among donors at the Xishuangbanna Blood Center, Yunnan, to support development of DENV screening strategies. Blood samples were collected randomly between June 2019 and August 2019. These were screened for anti-DENV IgG and IgM using enzyme-linked immunosorbent assay (ELISA). Then, all reactive samples and some randomly-chosen non-reactive samples were used to detect DENV RNAs using real-time polymerase-chain-reaction (RT-PCR) assays. After RT-PCR, samples were further tested for soluble nonstructural protein 1 (NS1) using the colloidal gold method. Donors demographics were also collected and assessed. Over the study period, 2254 donor samples were collected and tested for anti-DENV IgG and IgM by ELISA. This revealed 598 anti-DENV IgG and/or IgM reactive samples, a serological prevalence of 26.53%. Of these, 26 were RT-PCR positive and/or NS1 positive. Significant differences in DENV prevalence were noted by occupation (P = 0.001), education (P < 0.001), and ethnicity (P = 0.026). The prevalence of DENV in Xishuangbanna Blood Center was higher than most other blood centers that have implemented DENV donor screening. Our study provides first-hand data about the prevalence of DENV and allows the development of a screening strategy for clinical use.\r\n"
     ]
    }
   ],
   "source": [
    "#!esearch -db pubmed -query \"(\\\"Drug-Related Side Effects and Adverse Reactions\\\"[Mesh] OR Adverse Reaction*) AND  human[Mesh] AND English[Language]\"  -days 10 -sort \"Relevance\" | efetch -format docsum |xtract -pattern DocumentSummary -element Id PubDate Title\n",
    "!esearch -db pubmed -query \"(\\\"Drug-Related Side Effects and Adverse Reactions\\\"[Mesh] OR Adverse Reaction*) AND human[Mesh] AND English[Language]\" -days 30 -sort \"Relevance\"| efetch -format xml |xtract -pattern PubmedArticle -sep \" \" -def \"Abstract Not Available\" -tab \"!Split!\" -element PMID  ArticleTitle  AbstractText "
   ]
  },
  {
   "cell_type": "code",
   "execution_count": 48,
   "metadata": {},
   "outputs": [
    {
     "name": "stdout",
     "output_type": "stream",
     "text": [
      "2970 ../data/ADE02.txt\r\n"
     ]
    }
   ],
   "source": [
    "# download abstracts \n",
    "!esearch -db pubmed -query \"(\\\"Drug-Related Side Effects and Adverse Reactions\\\"[Mesh] OR Adverse Reaction*) AND human[Mesh] AND English[Language]\" -days 450 -sort \"Relevance\"| efetch -format xml |xtract -pattern PubmedArticle -sep \" \" -def \"Abstract Not Available\" -tab \"!Split!\" -element PMID  ArticleTitle  AbstractText >../data/ADE02.txt\n",
    "!wc -l ../data/ADE02.txt"
   ]
  },
  {
   "cell_type": "markdown",
   "metadata": {},
   "source": [
    "## 1.2 Research design & data collection - Abstracts containing Congenital anomalies"
   ]
  },
  {
   "cell_type": "markdown",
   "metadata": {},
   "source": [
    "Keywords: \"Congenital Abnormalities\" or \"congenital defects\" or \"birth defects\" or \"Congenital malformations\" or \"congenital disorders\" or \"Congenital anomalies\"\n",
    "\n",
    "MeSH: \"Congenital Abnormalities\"[Mesh]\n",
    "\n",
    "Search String: https://pubmed.ncbi.nlm.nih.gov/?term=%22Congenital+Abnormalities%22+or+%22congenital+defects%22+or+%22birth+defects%22+or+%22Congenital+malformations%22+or+%22congenital+disorders%22+or+%22Congenital+anomalies%22&filter=simsearch1.fha&filter=datesearch.y_5&filter=lang.english&filter=hum_ani.humans"
   ]
  },
  {
   "cell_type": "code",
   "execution_count": 41,
   "metadata": {},
   "outputs": [
    {
     "name": "stdout",
     "output_type": "stream",
     "text": [
      "<ENTREZ_DIRECT>\r\n",
      "  <Db>pubmed</Db>\r\n",
      "  <WebEnv>MCID_6026abe8170c625c707e2795</WebEnv>\r\n",
      "  <QueryKey>1</QueryKey>\r\n",
      "  <Count>2482</Count>\r\n",
      "  <Step>1</Step>\r\n",
      "</ENTREZ_DIRECT>\r\n"
     ]
    }
   ],
   "source": [
    "!esearch -db pubmed -query \"\\\"Congenital Abnormalities\\\"[Mesh] AND  human[Mesh] AND English[Language]\" -days 200"
   ]
  },
  {
   "cell_type": "code",
   "execution_count": 12,
   "metadata": {},
   "outputs": [
    {
     "name": "stdout",
     "output_type": "stream",
     "text": [
      "33500419!!The Bloom syndrome complex senses RPA-coated single-stranded DNA to restart stalled replication forks.!!The Bloom syndrome helicase BLM interacts with topoisomerase IIIα (TOP3A), RMI1 and RMI2 to form the BTR complex, which dissolves double Holliday junctions to produce non-crossover homologous recombination (HR) products. BLM also promotes DNA-end resection, restart of stalled replication forks, and processing of ultra-fine DNA bridges in mitosis. How these activities of the BTR complex are regulated in cells is still unclear. Here, we identify multiple conserved motifs within the BTR complex that interact cooperatively with the single-stranded DNA (ssDNA)-binding protein RPA. Furthermore, we demonstrate that RPA-binding is required for stable BLM recruitment to sites of DNA replication stress and for fork restart, but not for its roles in HR or mitosis. Our findings suggest a model in which the BTR complex contains the intrinsic ability to sense levels of RPA-ssDNA at replication forks, which controls BLM recruitment and activation in response to replication stress.\r\n",
      "33485507!!Pulmonary Venous Aneurysm Coiling for Hemoptysis via Known Patent Foramen Ovale.!!Abstract Not Available\r\n",
      "33468294!!Certification of a Pilot with Charcot-Marie-Tooth Disease.!!A modified Medical Flight Test (MFT) specifically tailored by the regulator to test areas of functional impairment allowed the successful certificatory assessment of a pilot with this condition; an approach which could apply to any pilot with a rare neurological disability.\r\n",
      "33468293!!Aeromedical Implications of Cerebral Cavernomas.!!A policy for the medical certification of aircrew with cavernomas that have presented with clinical symptoms and those that are detected incidentally is proposed.\r\n",
      "33466216!!A spontaneous bilateral fallopian tube pregnancy with didelphic uterus: A case report.!!In this article, we report interesting clinical manifestation of spontaneous bilateral fallopian tube pregnancies in a patient with a didelphic uterus. A 26-year-old female patient, gravida 2, para 0 + 1, suffered from progressive abdominal pain and vaginal bleeding. A laboratory exam revealed a human chorionic gonadotropin level of 1091 IU/L. Transvaginal ultrasound detected no embryo sacs in the uterus but revealed a didelphic uterus, and a mass measuring 39 mm x 32 mm in the left adnexa region with another mass measuring 42 x 28 mm in the right adnexa region. An ectopic pregnancy in the left adnexa region and a corpus hemorrhagicum in the right adnexa region were suspected. Laparoscopic exploration operation confirmed a didelphic uterus, and pathological biopsy revealed bilateral fallopian tube pregnancies. The patient made a good recovery and the human chorionic gonadotropin became normal within the following 2 months. To the best of our knowledge, clinical manifestation of spontaneous bilateral fallopian tube pregnancies in a patient with a didelphic uterus has never been reported before. Based on the experience with this case, we suggest that if a gestational sac is found in 1 fallopian tube, the contralateral fallopian tube needs to be examined for an ectopic pregnancy during surgery.\r\n",
      "33466208!!Silicon stent placement via rigid bronchoscopy for the treatment of central airway obstruction in infants: Case series.!!Rigid bronchoscopy has been proven to be an excellent tool for the diagnosis and management of several causes of central airway obstruction (CAO). The invasive treatment of silicone bronchobrachial stenting has been performed in children and adults with CAO, and satisfying results were obtained in previous studies. However, there are few reports on infants with central airway obstruction treated with stenting via rigid bronchoscopy. This technique remains a challenge to pediatric thoracic surgeons, pediatric interventional pulmonologists, and otolaryngologists who struggle to treat airway obstruction disease. Four patients were presented to our hospital with complaints of dyspnea for a period of time after their birth. Three patients were diagnosed as tracheobronchomalacia, and tracheoesophageal fistula. Four patients were treated with silicone stenting through rigid bronchoscopy. Silicon stent was adequate for improving the obstruction of the tracheal tract. All the patients were followed-up longer than 6 months. Three patients could breathe normally; the stent migrated in only 1 patient. Invasive silicone tracheobronchial stenting via rigid bronchoscopy is a viable option for infants with CAO. Choosing an appropriate size is a critical factor for success of stenting according to our experience.\r\n",
      "33466206!!Metastatic-prone telomerase reverse transcriptase (TERT) promoter and v-Raf murine sarcoma viral oncogene homolog B (BRAF) mutated tall cell variant of papillary thyroid carcinoma arising in ectopic thyroid tissue: A case report.!!Mutations of the v-Raf murine sarcoma viral oncogene homolog B (BRAF) oncogene and telomerase reverse transcriptase (TERT) promoter region are indicators of poor prognosis in papillary thyroid carcinoma (PTC) and might predict future occurrences of distant metastases. However, the clinical significance of these genetic aberrancies in PTCs arising in ectopic locations is not well established. We describe a patient with a previous history of radioiodine (RAI)-treated hyperthyroidism and a surgically resected right-sided follicular thyroid adenoma. In 2013, a 6 mm follicular variant papillary thyroid carcinoma was diagnosed following a left-sided thyroid lobectomy. The central compartment displayed 9 tumor-free lymph nodes, and no adjuvant treatment was planned. Three years later, a 26 mm pre-tracheal relapse was noted, however, the excised lesion was consistent with a tall cell variant of papillary thyroid carcinoma (TCV-PTC) arising in ectopic thyroid tissue. RAI treatment was commenced. Four years later, a 5 mm subcutaneous lesion in the anterior neck was surgically removed and diagnosed as metastatic TCV-PTC with a codon 600 BRAF mutation and a C228T TERT promoter mutation. RAI treatment was re-initiated. Molecular re-examination of the primary follicular variant papillary thyroid carcinoma demonstrated a codon 600 BRAF mutation and a TERT promoter wildtype sequence, while the primary TCV-PTC was positive for mutations in both codon 600 of BRAF as well as the TERT promoter. The patient is alive and well without signs of relapse 7 months after the latest round of RAI. We conclude that the occurrence of combined BRAF and TERT promoter mutations in the primary lesion from 2016 was associated to the manifestation of distant metastases 4 years later, strengthening the benefit of mutational screening of these genes in clinical routine for thyroid carcinomas arising in aberrant locations.\r\n",
      "33466173!!Prenatal diagnosis and ultrasonographic findings of partial trisomy of chromosome 6q: A case report and review of the literature.!!Partial trisomy of the long arm of chromosome 6 syndrome is a rare chromosomal disorder with distinctive phenotypic expressivity, in which cytogenetic abnormalities are usually reported in infancy and childhood. Ultrasonographic findings on trisomy of the distal long arm of chromosome 6 in previous studies are limited. A 32-year-old, gravida 6, para 1, pregnant woman who had 4 spontaneous abortions underwent a clinical ultrasound examination at 26 weeks of gestation. Ultrasonographic findings were microcephaly, an acoustic image of a transparent septum, a flat nasal bridge, right pulmonary artery stenosis, and a single umbilical artery. Cytogenetic and single-nucleotide polymorphism array analyses were performed to estimate genetic factors of this diagnosis by amniocentesis. After genetic counseling, the patient and her husband opted to terminate the pregnancy. Cytogenetic examination of the fetus showed the karyotype 46,XX,der(20)t(6;20)(q24;p13). The single-nucleotide polymorphism (SNP) array showed a 22.104-Mb duplication of 6q24.3q27 and a 0.784-Mb deletion of 20p13. Ultrasonographic findings of fetal abnormalities, including microcephaly, an acoustic image of a transparent septum, a flat nasal bridge, right pulmonary artery stenosis, and a single umbilical artery, may be related to a 22.104-Mb duplication of 6q24.3q27 and a 0.784-Mb deletion of 20p13. More ultrasonographic and genotype studies are required to extend the phenotypic characterization of partial trisomy 6q syndrome.\r\n",
      "33466159!!Successful transcatheter arterial embolization for massive hemorrhage from acquired uterine arteriovenous malformation which occurred as a complication of hysterectomy: A case report.!!Uterine arteriovenous malformation (UVM), which can be congenital or acquired, is a relatively rare disorder that can cause life-threatening hemorrhage. Acquired UVM occurs predominantly after previous uterine procedures; rarely, it may occur after a hysterectomy. Although the best treatment option for UVM remains controversial, transcatheter arterial embolization (TAE) has recently been introduced as a safe and effective treatment. A 34-year-old woman who underwent hysterectomy for uncontrolled postpartum bleeding continued to have hemoperitoneum. Two days after surgery, massive hemoperitoneum was identified on computed tomography scan, and acquired UVM was diagnosed by angiography. The patient was successfully treated using TAE with an n-Butyl cyanoacrylate. After embolization, hemodynamic stability was achieved. A day after embolization, hemoglobin was 10.2 g/dL, and the patient was discharged from the hospital 4 days thereafter. Although the overall incidence of acquired UVM after hysterectomy is low, bleeding from acquired UVM should be considered as one of the differential diagnoses in the immediate postpartum period, especially when the clinical symptoms do not correlate with the amount of blood loss. A high index of suspicion, prompt diagnosis and intervention, and a multidisciplinary approach in the management were the elements of a successful outcome in this case.\r\n",
      "33466154!!Ectopic thyroid gland located on the L4 vertebral body: A case report.!!The prevalence of ectopic thyroid is extremely low, with the condition observed in approximately 1 in 100,000 to 300,000 people. Thyroid gland ectopia develops as a result of the presence of developmental abnormalities during the migration of the thyroid anlage from the floor of the primitive foregut to its final position in the neck. Ectopic thyroid tissue is commonly observed in the lingual region, but can also present in other head and neck regions, as well as regions located at a large distance from the neck. A 67-year-old woman who had experienced left lumbago and leg pain was transferred to our hospital following the worsening of her lumbago-related symptoms in the 2 months preceding her presentation. Seven years ago, the patient had recurrent lumbago and leg pain without obvious inducement, and visited a local clinic for treatment. The severity of her symptoms fluctuated; their intensity increased after participation in activities and decreased after rest. The patient was diagnosed as having an ectopic thyroid gland that was located on the L4 vertebral body. The patient chose to undergo surgery, with supportive care, following tumor discovery. After surgical treatment, the degree of lumbar spinal stenosis improved, and the patient's clinical symptoms were alleviated. Clinically, ectopic goiter is diagnosed through radionuclide thyroid imaging, ultrasound examination, computed tomography, magnetic resonance imaging, and biopsy pathology. However, the imaging manifestations in this case were atypical, leading to greater diagnostic difficulties. A conclusion was finally reached based on pathology.\r\n",
      "33466149!!KCNQ1 G219E and TRPM4 T160M polymorphisms are involved in the pathogenesis of long QT syndrome: A case report.!!Long QT syndrome (LQTS) is an inheritable disease characterized by prolonged QT interval on the electrocardiogram. The pathogenesis of LQTS is related to mutations in LQTS-susceptible genes encoding cardiac ion channel proteins or subunits. Here, we reported a 37-year-old female Uygur patient with palpitation and loss of consciousness. At the time of admission, a 12-lead electrocardiogram showed a QTc interval of 514 ms. Genetic analysis revealed KCNQ1 G219E and TRPM4 T160M mutations. Although beta-blockers remain the mainstay in treating LQTS, the patient underwent implantation of an automatic cardioverter defibrillator due to life-threatening arrhythmias. To explore the effect of the calcium ion antagonist verapamil on ion channels, we generated human induced pluripotent stem cell cardiomyocytes (hiPSC-CMs) from the peripheral blood mononuclear cells of the patient. The changes of action potential duration in response to verapamil were observed. Our results showed that patient-derived hiPSC-CMs could recapitulate the electrophysiological features of LQTS and display pharmaceutical responses to verapamil.\r\n",
      "33466146!!A giant biliary cyst of Todani IA in a young woman: A case report.!!Biliary cysts (BC) are rare dilatations of various parts of a biliary tract. They account for approximately 1% of all benign biliary diseases. Total cyst excision and Roux-Y hepaticojejunostomy is the treatment method of choice in most patients. In this paper, a novel surgical treatment with the use of internal biliary and pancreatic catheters was presented. A 21-years-old woman with a giant choledochal cyst of Todani IA type presenting with abdominal pain, nausea, fever and palpable abdominal mass. It had been previously drained as a misdiagnosed pancreatic cyst in another hospital. A very high amylase level (107140,0 U/l) in drain fluid was noted in laboratory tests. Endoscopic retrograde cholangiopancreatography revealed a biliary cyst located in the distal common bile duct and a pancreaticobiliary anomaly was suggested. A cholangiography per catheter inserted to the biliary cyst showed a large round contrast-filled cyst. A cholangiography following cyst decompression revealed a very long, tortuous bile duct entering the duodenum. Cholecystectomy, cyst resection, Roux-Y hepaticojejunostomy, and implantation of catheters into pancreatic and bile duct were performed. The postoperative course was uneventful and she was discharged on 12th day without any complications. Histopathology revealed a cyst wall partially lined with biliary-type and mucinous epithelium, with dysplasia ranging from low to high grade (biliary intraepithelial neoplasia, high grade), without invasion. The biliary and pancreatic catheters were removed during endoscopic retrograde cholangiopancreatography 8 weeks following surgery without any complications. Fourteen months later, the patient reported good health. Diagnosis of the abdominal cyst should be very precise in order to avoid misdiagnosis and inadequate management. The early diagnosis and proper treatment of BC are needed in order to avoid serious complications. The cholangiocarcinoma is the most dangerous potential complication of BC due to dysplasia within the cyst wall as in our young female patient.\r\n",
      "33466118!!A novel mutation in RAB3GAP1 gene in Chinese patient causing the Warburg micro syndrome: A case report.!!Warburg Micro syndrome is a rare, autosomal recessive disorder characterized by multiple organ abnormalities involving the ocular, nervous, and genital systems. This case report describes a novel mutation in the RAB3GAP1 gene associated with Warburg Micro syndrome. A 6-month-old female infant with bilateral congenital cataracts and developmental delay was referred to our department for further assessment. She presented with facial dysmorphic features, including a prominent forehead, microphthalmia, wide nasal bridge, relatively narrow mouth, large anteverted ears, and micrognathia. The patient was diagnosed with Warburg Micro syndrome based on clinical manifestations, as well as a novel homozygous mutation in RAB3GAP1: c.75-2A>C. Both parents were identified as heterozygotic carriers of this mutation. Bilateral cataract extraction and anterior vitrectomy were performed at age 6 months, followed by physical rehabilitation. Convex lenses were used to protect the eyes postoperatively until intraocular lens implantation. Although the patient received physical rehabilitation, she suffered global developmental delay. The c.75-2A>C mutation in RAB3GAP1 expands the spectrum of known mutations in this gene, and it may be associated with Warburg Micro syndrome. Genetic counselors may wish to take this finding into consideration, especially given the poor prognosis associated with the disease.\r\n",
      "33455992!!Mid-Aortic Syndrome in Williams-Beuren Syndrome with an Atypical Small-Sized Deletion of Chromosome 7q11.23 Misdiagnosed as Takayasu Arteritis.!!Mid-aortic syndrome (MAS) is a rare condition characterized by stenosis of the distal thoracic and/or abdominal aorta. Williams-Beuren syndrome (WBS) is a relatively rare cause of MAS. We report a case of incidentally diagnosed MAS caused by WBS without typical manifestations caused by an atypical small-sized deletion in chromosome 7q11.23, which was initially misdiagnosed as Takayasu arteritis.\r\n",
      "33451341!!Suicidal attempt with caffeine overdose treated with dexmedetomidine: a case report.!!Caffeine is a widely used dietary stimulant, and cases of caffeine overdoses, sometimes leading to death, are increasing. We encountered a case of caffeine intoxication resolved with administration of the sedative agent dexmedetomidine. We administered dexmedetomidine for sedation and to suppress sympathetic nerve stimulation in the case of an 18-year-old Japanese male who ingested a massive dose of caffeine with the intention of committing suicide. The patient was in an excited state and had hypertension, sinus tachycardia, and hypokalemia with prominent QT prolongation. After dexmedetomidine administration, the patient's mental state, hemodynamics, and electrolyte levels were improved immediately. He was discharged without any sequelae 3 days later. Cases of acute caffeine intoxication with agitation, sympathetic overactivity and adverse cardiac events would benefit with dexmedetomidine treatment.\r\n",
      "33446244!!Morbidity associated with patent ductus arteriosus in preterm newborns: a retrospective case-control study.!!Association between persistency of a patent ductus arteriosus (PDA) and morbidity in preterm newborns is still controversial. We aimed to investigate the relation between PDA and morbidity in a large retrospective study. A case-control study including neonates consecutively admitted to the Neonatal Intensive Care Unit (NICU), with gestational age (GA) < 32 weeks or body birth weight (BW) < 1500 g, over a 5-year period. Newborns were divided into Cases and Controls, according with the presence or absence of a hemodynamically significant PDA (hs-PDA). We enrolled 85 Cases and 193 Controls. Subjects with hs-PDA had significantly (p < 0.001) lower GA (26.7 w, 95%CI 27.1-28.0 vs. 30.1 w, 95%CI 29.7-30.4), BW (1024 g, 95% CI 952-1097 vs. 1310 g 95%CI 1263-1358) and an increased morbidity (60.0% vs. 18.7%). In a sub-group of extremely preterm newborns (GA ≤ 28 weeks and BW ≤ 1000 g), the rate of bronchopulmonary dysplasia (BPD) was significantly increased in Cases (31.7%) compared with Controls (5.9%, p = 0.033). Multivariate analysis showed that morbidity significantly depended on hs-PDA, GA and BW, and that, in extremely preterms, the hs-PDA represented an independent risk factor for BPD. Occurrence of the main morbidities of prematurity depended by hs-PDA, in association with GA, BW, and use of prenatal steroids. In extremely premature babies, hs-PDA is a risk factor for BPD, one of the most important morbidity of prematurity, independently by other confounding variables.\r\n",
      "33436591!!Granzyme B inhibition reduces disease severity in autoimmune blistering diseases.!!Pemphigoid diseases refer to a group of severe autoimmune skin blistering diseases characterized by subepidermal blistering and loss of dermal-epidermal adhesion induced by autoantibody and immune cell infiltrate at the dermal-epidermal junction and upper dermis. Here, we explore the role of the immune cell-secreted serine protease, granzyme B, in pemphigoid disease pathogenesis using three independent murine models. In all models, granzyme B knockout or topical pharmacological inhibition significantly reduces total blistering area compared to controls. In vivo and in vitro studies show that granzyme B contributes to blistering by degrading key anchoring proteins in the dermal-epidermal junction that are necessary for dermal-epidermal adhesion. Further, granzyme B mediates IL-8/macrophage inflammatory protein-2 secretion, lesional neutrophil infiltration, and lesional neutrophil elastase activity. Clinically, granzyme B is elevated and abundant in human pemphigoid disease blister fluids and lesional skin. Collectively, granzyme B is a potential therapeutic target in pemphigoid diseases.\r\n",
      "33431524!!Rare case of right ventricular dilatation associated with anomalous pulmonary venous drainage, sinus venosus atrial septal defect and persistent left superior vena cava.!!A 34-year-old woman was seen in the emergency department for shortness of breath and chest pain. During a pandemic, it is easy to 'think horses and not zebras', and with a patient presenting with the classic coronavirus symptoms it would have been easy to jump to that as her diagnosis. After a careful history and examination, it became clear that there was another underlying diagnosis. Chest X-ray, echocardiogram and CT scan revealed marked right ventricular dilatation and pulmonary hypertension, alongside a persistent left superior vena cava (PLSVC). Further investigation with cardiac MRI and coronary angiography at a tertiary centre demonstrated that she not only have a PLSVC but also a partial anomalous pulmonary venous drainage and sinus venosus atrial septal defect. This case highlights the importance of considering all differentials and approaching investigations in a logical manner.\r\n",
      "33410987!!Drug-drug interactions between COVID-19 treatments and antipsychotics drugs: integrated evidence from 4 databases and a systematic review.!!Management of anxiety, delirium, and agitation cannot be neglected in coronavirus disease (COVID-19). Antipsychotics are usually used for the pharmacological management of delirium, and confusion and behavioral disturbances. The concurrent use of treatments for COVID-19 and antipsychotics should consider eventual drug-drug interactions OBJECTIVE: To systematically review evidence-based available on drug-drug interactions between COVID-19 treatments and antipsychotics. Three databases were consulted: Lexicomp® Drug Interactions, Micromedex® Solutions Drugs Interactions, and Liverpool© Drug Interaction Group for COVID-19 therapies. To acquire more information on QT prolongation and Torsade de Pointes (TdP), the CredibleMeds® QTDrugs List was searched. The authors made a recommendation agreed to by consensus. Additionally, a systematic review of drug-drug interactions between antipsychotics and COVID-19 treatment was conducted. The main interactions between COVID-19 drugs and antipsychotics are the risk of QT-prolongation and TdP, and cytochromes P450 interactions. Remdesivir, baricinitib, and anakinra can be used concomitantly with antipsychotics without risk of drug-drug interaction (except for hematological risk with clozapine and baricinitib). Favipiravir only needs caution with chlorpromazine and quetiapine. Tocilizumab is rather safe to use in combination with antipsychotics. The most demanding COVID-19 treatments for coadministration with antipsychotics are chloroquine, hydroxychloroquine, azithromycin, and lopinavir/ritonavir because of the risk of QT prolongation and TdP and cytochromes interactions. The systematic review provides highly probable drug interaction between lopinavir/ritonavir plus quetiapine and ritonavir/indinavir plus risperidone. Clinicians prescribing antipsychotics should be aware of the likely risk of drug-drug interaction with COVID-19 medication and may benefit from taking into account present recommendations of use to preserve patient safety.\r\n",
      "33331065!!Congenital heart disease and incremental risks of COVID-19.!!Abstract Not Available\r\n",
      "33280207!!Hydroxychloroquine/azithromycin treatment, QT interval and ventricular arrhythmias in hospitalised patients with COVID-19.!!Hydroxychloroquine (HCQ) and azithromycin (AZM) are widely used in off-label treatment of novel coronavirus disease (COVID-19). However, cardiac safety of these drugs is still controversial in COVID-19. Therefore, we aimed to evaluate association of HCQ or HCQ + AZM treatment regimens, corrected QT (QTc) interval and malignant ventricular arrhythmias in hospitalized patients. This is a single-center, retrospective and observational study. All data were extracted from the electronic medical records. The initial and post-treatment mean QTc intervals were calculated and compared in patients with HCQ alone or HCQ + AZM therapy. Associated factors with QTc prolongation, the incidence of ventricular arrhythmia during treatment and in-hospital mortality because of ventricular arrhythmias were evaluated. Our cohort comprised 101 hospitalized COVID-19 patients (mean age of 49.60 ± 18 years, 54.4% men). HCQ + AZM combination therapy group (n = 56) was more likely to have comorbidities. After 5-days treatment, 19 (18.8%) patients had QTc prolongation, and significant increase in the QTc interval was observed in both two groups (P < .001). However, HCQ + AZM combination group had significantly higher ΔQTc compared to HCQ group (22.5 ± 18.4 vs 7.5 ± 15.3 ms, P < .001). All of 101 patients completed the 5-days treatment without interruption. Also, no malignant ventricular arrhythmia or death secondary to ventricular arrhythmia occurred during the treatment in both groups. The present study revealed that although HCQ + AZM treatment was independently associated with QTc prolongation, none of patients experienced malignant ventricular arrhythmia or death during treatment. Further prospective studies are needed to determine the exact implications of these drugs on arrhythmias in patients with COVID-19.\r\n",
      "33246546!!Challenging Rhinoplasty for the Cleft Lip and Palate Patient.!!Cleft lip and palate patients represent one of the most challenging groups of patients for septorhinoplasty, presenting as a complex surgical obstacle for even the most seasoned surgeons. These individuals have undergone several surgeries throughout their lives, resulting in a considerable amount of scar tissue, significant asymmetries and structural deficits. Key factors in successfully treating cleft lip and palate patients are the reconstruction of the absent/asymmetric cartilages and the replacement of bony structures. The use of autogenous rib cartilage allows the surgeon to create various grafts as well as fortify the soft tissue to resist persistent soft tissue deformities.\r\n",
      "33245507 32978702!!Sex Differences in Lopinavir Concentrations and Occurrence of Marked QTc Prolongation Episodes in Patients with COVID-19.!!Abstract Not Available\r\n",
      "33231770!!Down's syndrome and COVID-19: risk or protection factor against infection? A molecular and genetic approach.!!Down syndrome (DS) is the most common genetic cause of learning difficulties and intellectual disabilities. DS patients often present with several congenital defects and chronic diseases, including immunity disorders. Elevated levels of pro-inflammatory cytokines such as interleukin (IL)-6 and tumor necrosis factor alpha (TNF-α) have been seen, which appear to vary with age. At birth, patients present with combined immunodeficiency, with frequent infections that decrease with age. Furthermore, high levels of IL-4 and IL-10 with anti-inflammatory properties and low levels of IL-6 and TNF-α are described in children. The immune system is believed to play an essential role in SARS-CoV-2 pathogenesis, and it has been associated with elevated levels of pro-inflammatory cytokines and an exaggerated cytokine release syndrome (CRS) that may eventually trigger a severe situation called cytokine storm. On the other hand, genetic features seem to be involved in the predisposition to illness and its severity. Overexpression of DSCR1 and ZAKI-4 inhibits the translocation of activated T lymphocyte nuclear factor (NF-AT) to the nucleus, a main step in the inflammatory responsiveness. We discuss here the possible role of immunology and genetic features of DS in the infection and prognosis in COVID-19.\r\n",
      "33223389!!A Case of Paradoxical Coil Embolism through a Patent Foramen Ovale.!!Abstract Not Available\r\n",
      "33221868!!Safety of hydroxychloroquine and darunavir or lopinavir in COVID-19 infection.!!Combination therapy with hydroxychloroquine and darunavir/ritonavir or lopinavir/ritonavir has been suggested as an approach to improve the outcome of patients with moderate/severe COVID-19 infection. To examine the safety of combination therapy with hydroxychloroquine and darunavir/ritonavir or lopinavir/ritonavir. This was an observational cohort study of patients hospitalized for COVID-19 pneumonia treated with hydroxychloroquine and darunavir/ritonavir or lopinavir/ritonavir. Clinical evaluations, electrocardiograms and the pharmacokinetics of hydroxychloroquine, darunavir and lopinavir were examined according to clinical practice and guidelines. Twenty-one patients received hydroxychloroquine with lopinavir/ritonavir (median age 68 years; 10 males) and 25 received hydroxychloroquine with darunavir/ritonavir (median age 71 years; 15 males). During treatment, eight patients (17.4%) developed ECG abnormalities. Ten patients discontinued treatment, including seven for ECG abnormalities a median of 5 (range 2-6) days after starting treatment. All ECG abnormalities reversed 1-2 days after interrupting treatment. Four patients died within 14 days. ECG abnormalities were significantly associated with age over 70 years, coexisting conditions (such as hypertension, chronic cardiovascular disease and kidney failure) and initial potential drug interactions, but not with the hydroxychloroquine concentration. Of the patients with COVID-19 who received hydroxychloroquine with lopinavir or darunavir, 17% had ECG abnormalities, mainly related to age or in those with a history of cardiovascular disease.\r\n",
      "33203514!!Associations Between Socioeconomic Context and Congenital Heart Disease Related Outcomes in Adolescents and Adults.!!Little is known about the relation between socioeconomic factors and health outcomes in adults and adolescents with congenital heart defects (CHD). Population-level data from the Colorado CHD surveillance system from 2011 to 2013 was used to examine the association between area deprivation and outcomes including hospitalizations, emergency department visits, cardiac procedures, all-cause and cardiac-related mortality, and major adverse cardiac events. Socioeconomic context was measured by the Area Deprivation Index at census tract level. Missing race/ethnicity was imputed using the Bayesian Improved Surname Geocoding algorithm. Generalized linear models were utilized to examine health disparities across deprivation quintiles after adjusting for insurance type, race/ethnicity, age, gender, urbanicity, and CHD severity in 5,748 patients. Cases residing in the most deprived quintile had 51% higher odds of inpatient admission, 74% higher odds of emergency department visit, 41% higher odds of cardiac surgeries, and 45% higher odds of major adverse cardiac events compared with cases in the least deprived quintile. Further, rates of hospitalizations, emergency department admissions, and cardiac surgeries were elevated in the most deprived compared with the least deprived quintile. Mortality was not significantly different across quintiles. In conclusion, findings suggest significant health equity issues for adolescent and adults with CHD based on area-based deprivation.\r\n",
      "33186061!!A pharmacovigilance study to quantify the strength of association between the combination of antimalarial drugs and azithromycin and cardiac arrhythmias: implications for the treatment of COVID-19.!!: Hydroxychloroquine/chloroquine and/or azithromycin was associated with QTp/TdP safety signals and their use should be monitored carefully.\r\n",
      "33181255!!A missense variant in the nuclear export signal of the FMR1 gene causes intellectual disability.!!Fragile X syndrome (FXS) is the most common monogenetic cause of intellectual disability and autism spectrum disorders. Mostly, FXS is caused by transcriptional silencing of the FMR1 gene due to a repeat expansion in the 5' UTR, and consequently lack of the protein product FMRP. However, in rare cases FXS is caused by other types of variants in the FMR1 gene. We describe a missense variant in the FMR1 gene, identified through whole-exome sequencing, in a boy with intellectual disability and behavioral problems. The variant is located in the FMRP's nuclear export signal (NES). We performed expression and localization studies of the variant in hair roots and HEK293 cells. Our results show normal expression but significant retention of the FMRP in the cells' nucleus. This finding suggests a possible FMRP reduction at its essential functional sites in the dendrites and the synaptic compartments and possible interference of other cellular processes in the nucleus. Together, this might lead to a FXS phenotype in the boy.\r\n",
      "33153847!!Bixafen, a succinate dehydrogenase inhibitor fungicide, causes microcephaly and motor neuron axon defects during development.!!Succinate dehydrogenase inhibitors (SDHIs), the most widely used fungicides in agriculture today, act by blocking succinate dehydrogenase (SDH), an essential and evolutionarily conserved component of mitochondrial respiratory chain. Recent results showed that several SDHIs used as fungicides not only inhibit the SDH activity of target fungi but also block this activity in human cells in in vitro models, revealing a lack of specificity and thus a possible health risk for exposed organisms, including humans. Despite the frequent detection of SDHIs in the environment and on harvested products and their increasing use in modern agriculture, their potential toxic effects in vivo, especially on neurodevelopment, are still under-evaluated. Here we assessed the neurotoxicity of bixafen, one of the latest-generation SDHIs, which had never been tested during neurodevelopment. For this purpose, we used a well-known vertebrate model for toxicity testing, namely zebrafish transparent embryos, and live imaging using transgenic lines labelling the brain and spinal cord. Here we show that bixafen causes microcephaly and defects on motor neuron axon outgrowth and their branching during development. Our findings show that the central nervous system is highly sensitive to bixafen, thus demonstrating in vivo that bixafen is neurotoxic in vertebrates and causes neurodevelopmental defects. This work adds to our knowledge of the toxic effect of SDHIs on neurodevelopment and may help us take appropriate precautions to ensure protection against the neurotoxicity of these substances.\r\n",
      "33139185!!Value Improvement by Assessing IR Care via Time-Driven Activity-Based Costing.!!To evaluate time-driven activity-based costing (TDABC) in interventional radiology for image-guided vascular malformation treatment as an example. Retrospective analysis was performed on consecutive vascular malformation treatment cycles [67 venous malformations (VMs) and 11 arteriovenous malformations (AVMs)] in a university hospital in 2018. All activities were integrated with a process map, and spent resources were assigned accordingly. TDABC uses 2 parameters: (i) practical capacity cost rate, calculated as 80% of theoretical capacity, and (ii) time consumption of each resource determined by interviews (23 items). Thereby, the total costs were calculated. Treatment cycles were modified according to identified resource waste and TDABC-guided negotiations with health insurance. Total personnel time required was higher for AVM (1,191 min) than for VM (637 min) treatment. The interventional procedure comprised the major part (46%) of personnel time required in AVM, whereas it comprised 19% in VM treatment. Materials represented the major cost type in AVM (75%) and VM (45%) treatments. TDABC-based treatment process modification led to a decrease in personnel time need of 16% and 30% and a cost reduction of 5.5% and 15.7% for AVM and VM treatments, respectively. TDABC-guided cost reduction and TDABC-informed negotiations improved profit from -56% to +40% and from +41% to +69% for AVM and VM treatments, respectively. TDABC facilitated the precise costing of interventional radiologic treatment cycles and optimized internal processes, cost reduction, and revenues. Hence, TDABC is a promising tool to determine the denominator of interventional radiology's value.\r\n",
      "33125987!!Diastolic and systolic right ventricular diameters for predicting pulmonary hypertension in children with congenital heart disease.!!Prospective electrocardiography (ECG)-gated cardiac computed tomography angiography (CTA) is widely used for pediatric patients with congenital heart disease (CHD) due to the lower radiation dose compared with the ECG-gated technique. However, functional parameters acquired using ECG-gated cardiac CT to predict pulmonary hypertension (PH) in children with CHD have not yet been reported. This study aimed to investigate the potential of diastolic and systolic right ventricular diameters (RVD) on prospective ECG-gated cardiac CTA to predict PH in children with CHD. A total of 44 children with CHD were divided into two groups: CHD with PH (n = 22) and CHD without PH (n = 22). The association between ECG-gated CTA parameters and PH was evaluated by logistic regression. The receiver operating characteristic curve (ROC) was used to find the best cut-off point for the parameters measured by Youden's index. Patients with higher RVD-BSA [aOR (95% CI) diastolic: 2.76 (1.23-6.23); systolic: 6.15 (1.72-22.06)] had higher risk of PH after adjusting for age and patent ductus arteriosus. The area under the curve (AUC) of D-RVD-BSA was 0.907 and the AUC of S-RVD-BSA was 0.917. Logistic regression showed that patients with D-RVD-BSA over 6.86 or S-RVD-BSA over 5.87 had significantly higher risk of PH after adjustments (aOR = 23.52, 95% CI = 2.89-191.03; aOR = 31.14, 95% CI = 2.75-352.85). In conclusion, in children with CHD, measurements of diastolic or systolic BSA-modified RVDs on prospective ECG-gated CTA are non-invasive markers of PH. BSA-modified D-RVD of 6.86 or BSA-modified S-RVD of 5.87 may be used to identify PH in children with CHD.\r\n",
      "33091767!!Hypermethylation of WNT3A gene and non-syndromic cleft lip and/or palate in association with in utero exposure to lead: A mediation analysis.!!We aim to investigate association between WNT3A methylation and risk of non-syndromic cleft lip and/or palate (NSCL/P), and examine mediating effect of WNT3A methylation on the association of NSCL/P and lead (Pb) exposure in fetuses. DNA methylation of WNT3A in umbilical cord blood was determined among 59 NSCL/P cases and 118 non-malformed controls. Mediation analysis was performed to evaluate the potential mediating effect of WNT3A methylation on association between concentrations of Pb in umbilical cord and risk for NSCL/P. Additionally, an animal experiment in which cleft palates were induced by lead acetate was conducted. The overall average methylation level of WNT3A was significant higher in NSCL/P cases as compared to controls. The risk for NSCL/P was increased by 1.90-fold with hypermethylation of WNT3A. Significant correlation was observed between concentrations of Pb in umbilical cord and methylation level of WNT3A. The hypermethylation of WNT3A had a mediating effect by 9.32% of total effect of Pb on NSCL/P risk. Gender-specific association between WNT3A methylation and NSCL/P was observed in male fetuses, and the percentage of the mediating effect increased to 14.28%. Animal experiment of mice showed that maternal oral exposure to lead acetate may result in cleft palate in offspring. Hypermethylation of WNT3A was associated with the risk for NSCL/P and may be partly explain the association between exposure to Pb and risk for NSCL/P. The teratogenic and fetotoxic effects of Pb were found in mice.\r\n",
      "33075384!!Spontaneous reported cardiotoxicity induced by lopinavir/ritonavir in COVID-19. An alleged past-resolved problem.!!The antiretroviral drug lopinavir/ritonavir has been recently repurposed for the treatment of COVID-19. Its empirical use has been associated with multiple cardiac adverse reactions pertaining to its ancillary multi-channel blocking properties, vaguely characterized until now. We aimed to characterize qualitatively the cardiotoxicity associated with lopinavir/ritonavir in the setting of COVID-19. Spontaneous notifications of cardiac adverse drug reactions reported to the national Pharmacovigilance Network were collected for 8 weeks since March 1st 2020. The Nice Regional Center of Pharmacovigilance, whose scope of expertise is drug-induced long QT syndrome, analyzed the cases, including the reassessment of all available ECGs. QTc ≥ 500 ms and delta QTc > 60 ms from baseline were deemed serious. Twenty-two cases presented with 28 cardiac adverse reactions associated with the empirical use of lopinavir/ritonavir in a hospital setting. Most adverse reactions reflected lopinavir/ritonavir potency to block voltage-gated potassium channels with 5 ventricular arrhythmias and 17 QTc prolongations. An average QTc augmentation of 97 ± 69 ms was reported. Twelve QTc prolongations were deemed serious. Other cases were likely related to lopinavir/ritonavir potency to block sodium channels: 1 case of bundle branch block and 5 recurrent bradycardias. The incidence of cardiac adverse reactions of lopinavir/ritonavir was estimated between 0.3% and 0.4%. These cardiac adverse drug reactions offer a new insight in its ancillary multi-channel blocking functions. Lopinavir/ritonavir cardiotoxicity may be of concern for its empirical use during the COVID-19 pandemic. Caution should be exerted relative to this risk where lopinavir/ritonavir summary of product characteristics should be implemented accordingly.\r\n",
      "33074153!!Invasive assessment of myocardial bridging in patients with angina and no obstructive coronary artery disease.!!Angina and no obstructive coronary artery disease (ANOCA) is common. A potential cause of angina in this patient population is a myocardial bridge (MB). We aimed to study the anatomical and haemodynamic characteristics of an MB in patients with ANOCA. Using intravascular ultrasound (IVUS), we identified 184 MBs in 154 patients. We evaluated MB length, arterial compression, and halo thickness. MB muscle index (MMI) was defined as MB length×halo thickness. Haemodynamic testing of the MB was performed using an intracoronary pressure/Doppler flow wire at rest and during dobutamine stress. We defined an abnormal diastolic fractional flow reserve (dFFR) as ≤0.76 during stress. The median MB length was 22.9 mm, arterial compression 30.9%, and halo thickness 0.5 mm. The median MMI was 12.1. Endothelial and microvascular dysfunction were present in 85.4% and 22.1%, respectively. At peak dobutamine stress, 94.2% of patients had a dFFR ≤0.76 within and/or distal to the MB. MMI was associated with an abnormal dFFR. In select patients with ANOCA who have an MB by IVUS, the majority have evidence of a haemodynamically significant dFFR during dobutamine stress, suggesting the MB as being a cause of their angina. A comprehensive invasive assessment of such patients during coronary angiography provides important diagnostic information that can guide management.\r\n",
      "33069612 32855095!!Main challenges of electrolyte imbalance in older patients with COVID-19 and risk of QT prolongation. Response.!!Abstract Not Available\r\n",
      "33051870!!M2 Macrophages Promote Collagen Expression and Synthesis in Laryngotracheal Stenosis Fibroblasts.!!Macrophages exhibit distinct phenotypes and are dysregulated in a model of iatrogenic laryngotracheal stenosis (iLTS). Increased populations of alternatively activated or M2 macrophages have been demonstrated. However, the role of these macrophages is unknown. The aims of this study are: 1) define the macrophage population in iLTS in the context of classically activated or M1 and M2 macrophage phenotypes, and 2) characterize the effect of monocyte-derived M1 and M2 macrophages on normal airway and LTS-derived fibroblasts (FBs) in vitro. Comparative analysis; in vitro controlled study. Immunohistochemical analysis of human iLTS and control specimens was performed to define the macrophage population. In vitro, M1, and M2 macrophages were polarized using M-CSF + Interferon-gamma and lipopolysaccharide or Interleukin-4, respectively. FBs isolated from laryngotracheal scar (LTS-FBs) and normal tracheal airway (NA-FBs) in eight patients with iLTS were cocultured with polarized macrophages. Fibrosis gene expression, soluble collagen production, and proliferation were assessed. Immunohistochemical analysis revealed increased CD11b + cells (macrophage marker) in laryngotracheal scar specimens (18.3% vs. 8.5%, P = .03) and predominant CD206 (M2) costaining versus CD86 (M1) (51.5% vs. 9.8%, n = 10, P = .001). In vitro, NA-FBs cultured with M2 macrophages demonstrated a 2.41-fold increase in collagen-1 expression (P = .05, n = 8) and an increase in soluble collagen (9.98 vs. 8.875, mean difference: 1.11 95%, confidence interval 0.024-2.192, n = 8, P = .015). Increased populations of CD11b cells are present in iLTS specimens and are predominantly CD206+, indicating an M2 phenotype. In vitro, M2 macrophages promoted collagen expression in airway FBs. Targeting macrophages may represent a therapeutic strategy for attenuating fibrosis in iLTS. NA Laryngoscope, 131:E346-E353, 2021.\r\n",
      "33051061!!It Is Complex: Predicting Gastroschisis Outcomes Using Prenatal Imaging.!!Gastroschisis occurs in one of 2000 births with survival rates partially contingent on intestinal complications and time to establishing feeding. Enhancements in prenatal imaging have given better insight into postnatal outcomes. The goal of this study was to examine the gastroschisis patient population at a single children's hospital in the modern era and to use prenatal ultrasound (US) to develop new prenatal prognostic indicators. We performed a retrospective review of gastroschisis patients at a quaternary-care referral children's hospital from 2010 through 2018. We recorded demographics, prenatal data and imaging, early postnatal data, operative data, and patient outcomes. We compared patients within our cohort born with complex gastroschisis (bowel atresia/perforation) to uncomplicated gastroschisis patients. Second trimester and third trimester prenatal US were evaluated for changes in amniotic fluid level, amount of external bowel, bowel dilatation, and bowel wall edema to identify prognostic indicators of the status of the bowel at birth. For categorical variables, chi-square tests were used to assess for significance. Univariate and multivariable analyses were used to assess significance between categorical and continuous variables using medians and interquartile ranges or means. A total of 134 patients were included in the study: complex (n = 24), uncomplicated (n = 110). Compared with uncomplicated gastroschisis, complex patients required longer median days to feeding initiation (44 versus 10; P < 0.001), full feeding (80 versus 23; P < 0.001), length of stay (83 versus 33; P < 0.001), and total parenteral nutrition at discharge (P = 0.004). Full US data were available on 81% of patients, and partial data were identified on 19%. Prenatal US analysis showed significantly more complex patients had polyhydramnios on third trimester US (23.5%-4.3%; P = 0.018). US analysis showed these additional factors to be most associated with complex gastroschisis: large amount of external bowel on third trimester US, increase in bowel edema on third trimester US, and increase in external bowel dilation on third trimester US. Multivariable logistic regression analyses revealed amniotic fluid on third trimester US to be the most significant predictor of complex gastroschisis (P = 0.01). Polyhydramnios in combination with two-thirds of the other US factors had both sensitivity and positive predictive value for predicting complex gastroschisis of 75%. Patients with two or less of these positive US factors had high specificity (96.8%) and negative predictive value (87.5%), suggesting uncomplicated disease. There were no differences in perioperative or long-term complications in the complex group when compared with the group with uncomplicated gastroschisis. Polyhydramnios on third trimester prenatal US on babies with gastroschisis can predict complex gastroschisis at birth, whereas the absence of markers on prenatal US can suggest uncomplicated disease. Complex gastroschisis is associated with increased time to feeds and length of stay.\r\n",
      "33047362!!Pain complications of oral implants: Is that an issue?!!The use of oral implants as a form of replacing missing teeth in partial or total edentulous patients is considered the gold standard in oral rehabilitation. Although considered a history of success in contemporary dentistry, surgical complications may occur, as excessive bleeding, damage to the adjacent teeth and mandibular fractures. Persistent pain and abnormal somatosensory responses after the surgery ordinary healing time are also potential problems and may lead to the development of a condition named posttraumatic trigeminal neuropathic pain (PTNP). Though relatively rare, PTNP has a profound impact on patient's quality of life. Appropriated previous image techniques, effective anaesthetic procedures and caution during the surgical procedure and implant installation are recommended for the prevention of this condition. In case of the PTNP, different management modalities, including antidepressant and membrane stabilizer medications, as well as peripheral strategies, as the use of topical medication and the botulin toxin are presented and discussed.\r\n",
      "33043453!!Incidence and treatment of arrhythmias secondary to coronavirus infection in humans: A systematic review.!!The coronavirus disease 2019 (COVID-19) pandemic has affected millions of people worldwide resulting in significant morbidity and mortality. Arrhythmias are prevalent and reportedly, the second most common complication. Several mechanistic pathways are proposed to explain the pro-arrhythmic effects of severe acute respiratory syndrome coronavirus 2 (SARS-CoV-2) infection. A number of treatment approaches have been trialled, each with its inherent unique challenges. This rapid systematic review aimed to examine the current incidence and available treatment of arrhythmias in COVID-19, as well as barriers to implementation. Our search of scientific databases identified relevant published studies from 1 January 2000 until 1 June 2020. We also searched Google Scholar for grey literature. We identified 1729 publications of which 1704 were excluded. The incidence and nature of arrhythmias in the setting of COVID-19 were poorly documented across studies. The cumulative incidence of arrhythmia across studies of hospitalised patients was 6.9%. Drug-induced long QT syndrome secondary to antimalarial and antimicrobial therapy was a significant contributor to arrhythmia formation, with an incidence of 14.15%. Torsades de pointes (TdP) and sudden cardiac death (SCD) were reported. Treatment strategies aim to minimise this through risk stratification and regular monitoring of corrected QT interval (QTc). Patients with SARS-CoV-2 are at an increased risk of arrhythmias. Drug therapy is pro-arrhythmogenic and may result in TdP and SCD in these patients. Risk assessment and regular QTc monitoring are imperative for safety during the treatment course. Further studies are needed to guide future decision-making.\r\n",
      "33026661!!Voice-Related Quality of Life Is Associated with Postoperative Change in Subglottic Stenosis.!!To characterize the impact of subglottic stenosis (SGS) on voice-related quality of life (V-RQOL) and quantify the effect of treatment on voice outcomes. Case series. Retrospective review of SGS patients treated from 1996 to 2018 at a single institution to assess for 1) V-RQOL association with individual patient cumulative treatment number and 2) V-RQOL correlation with treatment type, time between treatments, and degree of stenosis. Analysis included both parametric and nonparametric statistical comparison across treatment types and multivariable and univariate linear regression. Sixty-one patients, predominantly white (93%) and female (93%), were included. Etiology of SGS included idiopathic (61%), iatrogenic (16%), granulomatosis with polyangiitis (16%), and other (7%). The plurality of patients had four or more treatments (44%), with the remainder having one (28%), two (13%), or three treatments (15%). Analysis of change between pre- and postoperative V-RQOL scores was completed for 130 treatments. These included dilation with laser incision (52%), in-office injection (34%), dilation without division (8%), cricotracheal resection (1%), and all other treatment (8%). For every 10% improvement in airway caliber postoperatively, there was a 1.3-point improvement in calculated V-RQOL (r = 0.27, P = .02). After adjustment for treatment type, age, sex, and SGS etiology, this association held (beta = 1.5, P = .02). Change in V-RQOL was not associated with treatment type, treatment number, or time between treatments. Patients with subglottic stenosis who have greater degree of change in airway caliber experience greater improvement in V-RQOL scores following treatment. V-RQOL scores are not associated with treatment type or time between individual treatments. 4 Laryngoscope, 131:360-365, 2021.\r\n",
      "33007370!!A study on the role of FMR1 CGG trinucleotide repeats in Jordanian poor ovarian responders.!!The expansion of trinucleotide CGG repeats in the promoter of fragile X mental retardation 1 (FMR1) gene is associated with fragile X and fragile X associated tremor/ataxia syndromes. While the expansion of CGG repeats has been associated with such neuro/psychiatric diseases, the contraction of CGG repeats has been recently suggested as an indication of ovarian dysfunction. This study aimed to evaluate a possible association of the short CGG repeats with poor ovarian responders (POR) and to test for a possible correlation between the CGG size and different known markers of the ovarian reserve, namely FSH, AMH, and the number of retrieved oocytes from Jordanian females. We found a significant difference between the CGG median allele size between the cases and the controls (p < 0.001), where poor ovarian responders had shorter CGG repeats compared to the healthy controls. Also, females with alleles <26 had twice the odds to be presented in the POR compared to the controls. However, we did not find a significant correlation between CGG sizes and the markers of ovarian reserve. We conclude that although low CGG repeats appear to be linked to POR, the clinical utility of FMR1 for predicting ovarian response needs further investigation.\r\n",
      "32981089!!Chloroquine and hydroxychloroquine for COVID-19: Perspectives on their failure in repurposing.!!Non-clinical studies suggest that chloroquine (CQ) and hydroxychloroquine (HCQ) have antiviral activities. Early clinical reports of successful HCQ-associated reduction in viral load from small studies in COVID-19 patients spurred a large number of national and international clinical trials to test their therapeutic potential. The objective of this review is to summarize the current evidence on the safety and efficacy of these two agents and to provide a perspective on why their repurposing has hitherto failed. Published studies and rapidly emerging data were reviewed to gather evidence on safety and efficacy of CQ and HCQ in patients with COVID-19 infection or as prophylaxis. The focus is on clinically relevant efficacy endpoints and their adverse effects on QT interval. At the doses used, the two agents, given alone or with azithromycin (AZM), are not effective in COVID-19 infection. The choice of (typically subtherapeutic) dosing regimens, influenced partly by \"QT-phobia,\" varied widely and seems anecdotal without any pharmacologically reliable supporting clinical evidence. A substantial proportion of patients receiving CQ/HCQ/AZM regimen developed QTc interval prolongation, many with absolute QTc interval exceeding the potential proarrhythmic threshold, but very few developed proarrhythmia. The strategy to repurpose CQ/HCQ to combat COVID-19 infection is overshadowed by concerns about their QT liability, resulting in choice of potentially subtherapeutic doses. Although the risk of QT-related proarrhythmia is real, it is low and manageable by careful monitoring. Recent discontinuation of HCQ from at least four large studies effectively marks the end of efforts at repurposing of CQ or HCQ for COVID-19 infection. This episode leaves behind important questions on dose selection and risk/benefit balance in repurposing drugs generally.\r\n",
      "32956782!!Assessing QT interval in COVID-19 patients:safety of hydroxychloroquine-azithromycin combination regimen.!!Hydroxychloroquine (HCQ) and azithromycin (AZT) have been proposed for COVID-19 treatment. Data available in the literature reported a potential increased risk of fatal arrhythmias under these therapies. The aim of this study was to assess the effects of these drugs on QT interval and outcome in a COVID-19 population. A total of 112 consecutive COVID-19 patients were included in this analysis and were divided in 3 groups according to the receiving therapeutic regimens: 19 (17%) patients in Group 1 (no treatment), 40 (36%) in Group 2 (HCQ only), 53 (47%) in Group 3 (HCQ/AZT). A prolonged QTc interval was found in 61% of patients treated with HCQ alone or in combination with AZT, but only 4 (4%) patients showed a QTc > 500 ms. HCQ/AZT combination determined a greater increase of QTc duration compared to the other two strategies (Group 3 452 ± 26.4 vs Group 2 436.3 ± 28.4 vs Group 1 424.4 ± 24.3 ms, respectively; p < 0.001). Multivariate analysis demonstrated that HCQ/AZT combination (OR 9.02, p = 0.001) and older age (OR 1.04, p = 0.031) were independent predictors of QTc prolongation. The risk increased with age (incremental utility analysis p = 0.02). Twenty patients (18%) died, and no cardiac arrest neither arrhythmic fatalities were documented. The HCQ/AZT combination therapy causes a significantly increase of QT interval compared to HCQ alone. Older patients under such regimen are at higher risk of experiencing QT prolongation. The use of such drugs may be considered as safe relating to arrhythmic risk in the treatment of COVID-19 patients as no arrhythmic fatalities occurred.\r\n",
      "32950319!!Bell's palsy in a pediatric patient with hyper IgM syndrome and severe acute respiratory syndrome coronavirus 2 (SARS-CoV-2).!!Bell's palsy is an acute facial paralysis with known association to viral infections. We describe a medically complex 6-year-old male with hyper IgM syndrome who presented with unilateral facial droop and positive SARS-CoV-2 RT-PCR. This is the first reported pediatric case of Bell's palsy in the setting of SARS-CoV-2 infection.\r\n",
      "32917800!!Clinical Reasoning: A 6-Year-Old Boy With Muscle Twitching.!!Abstract Not Available\r\n",
      "32905827!!A novel REEP1 splicing mutation with broad clinical variability in a family with hereditary spastic paraplegia.!!Hereditary spastic paraplegia (HSP) is a heterogeneous group of genetic disorders characterized by lower-limb spastic paralysis. We report on a family with three generations of autosomal dominant inheritance of HSP caused by a novel heterozygous splice-site mutation (c.303 + 2 T > C) in REEP1 that was confirmed by RFLP analysis. Carriers of the mutation, including one asymptomatic individual, showed a mild HSP phenotype with a wide range of intrafamilial variation. All symptomatic carriers had ankle contractures in addition to other classical clinical symptoms of HSP. Clinicians should suspect REEP1-related HSP in patients who show ankle contractures with other symptoms of HSP and should consider that these patients have asymptomatic carriers within their family.\r\n",
      "32902886!!Voice-Related Quality of Life in Idiopathic Subglottic Stenosis: Effect of Serial Intralesional Steroid Injections.!!Serial intralesional steroid injection (SILSI) is an emerging treatment for idiopathic subglottic stenosis (ISGS), providing improvement in both subjective symptoms and objective airflow parameters. Little is known about how this airway remodeling affects the voice. This project analyzes subjective voice changes after SILSI and correlates these with airflow parameters. An ISGS database containing voice-related quality of life (V-RQOL) and spirometry (peak expiratory flow percentage [%PEF]) was retrospectively queried. Included were ISGS patients from 2009 to 2019 who had at least one SILSI treatment. Encounters without complete data were excluded. Differences between preprocedure and postprocedure metrics were calculated. Correlations and nonparametric bivariate analysis were performed. Six hundred and seventeen steroid injections were performed in 55 patients, with an average of 3.5 years of follow-up. The average V-RQOL for all patient encounters, both pre- and postprocedure, showed little subjective dysphonia (83.5 of 100, 95% confidence interval [CI] 81.6 to 85.4). Considering SILSI-only treatments, there were 143 encounters with full data; of these, V-RQOL improved in 70 (49.0%), did not change in 40 (28.0%), and worsened in 33 (23.0%). Average V-RQOL improvement for the entire cohort was 1.9 points (95% CI: 0.7 to 3.2), which was small but significant (P = .0003). Across all data, there was a weak but significant correlation between PEF% and V-RQOL (ρ = 0.22, P = .0043). SILSI was associated with improvement in subjective voice ratings in about half of patients, and the improvement correlated with improved airflow measurements. This research adds to the growing body of data regarding SILSI and suggests that further work on functional changes to the larynx with airway remodeling is imperative. 4 Laryngoscope, 131:366-369, 2021.\r\n",
      "32878580!!Arterio-Hepatic Venous Fistula Following Liver Biopsy: A Rare Case Report and Literature Review.!!Arterio-hepatic venous fistula (AHVF) is an exceedingly rare phenomenon compared to arterio-portal venous fistula with only 8 cases reported in world literature. Many listed causes can be attributed to the development of there are no reported cases of AHVF following a core-needle biopsy. We report a case of 38 year-old-female with EHPVO, who underwent splenectomy with a proximal splenorenal shunt. She had an injury to left hepatic artery, consequent to a blind intra-operative core needle biopsy from the liver, which led to the development of a fistulous connection between left hepatic artery and middle hepatic vein causing high output cardiac failure. She was successfully managed with trans-arterial embolization. The present review emphasizes the possibility of AHVF following a liver biopsy and the role of digital subtraction angiography in the diagnosis, therapeutic intravascular interventions, and follow-up.\r\n",
      "32855095 32446793 33069612!!Main challenges of electrolyte imbalance in older patients with COVID-19 and risk of QT prolongation.!!Abstract Not Available\r\n",
      "32839582!!Complexities of the glomerular basement membrane.!!The glomerular basement membrane (GBM) is a key component of the glomerular capillary wall and is essential for kidney filtration. The major components of the GBM include laminins, type IV collagen, nidogens and heparan sulfate proteoglycans. In addition, the GBM harbours a number of other structural and regulatory components and provides a reservoir for growth factors. New technologies have improved our ability to study the composition and assembly of basement membranes. We now know that the GBM is a complex macromolecular structure that undergoes key transitions during glomerular development. Defects in GBM components are associated with a range of hereditary human diseases such as Alport syndrome, which is caused by defects in the genes COL4A3, COL4A4 and COL4A5, and Pierson syndrome, which is caused by variants in LAMB2. In addition, the GBM is affected by acquired autoimmune disorders and metabolic diseases such as diabetes mellitus. Current treatments for diseases associated with GBM involvement aim to reduce intraglomerular pressure and to treat the underlying cause where possible. As our understanding about the maintenance and turnover of the GBM improves, therapies to replace GBM components or to stimulate GBM repair could translate into new therapies for patients with GBM-associated disease.\r\n",
      "32814654!!Short-term condylar and glenoid fossa changes in infants with Pierre Robin sequence undergoing mandibular distraction osteogenesis.!!The purpose was to evaluate short-term changes in condylar and glenoid fossa morphology in infants with Pierre Robin sequence (PRS) undergoing early (age <4 months) mandibular distraction osteogenesis (MDO) for the management of severe airway obstruction. Computed tomography data from infants with PRS who had MDO were compared to those of age-matched control infants without facial skeletal dysmorphology. Surface/volume, linear, and angular measurements of the condyle and glenoid fossa were obtained and compared between infants with PRS and controls. Eleven infants with PRS met the inclusion criteria. There were five female and six male subjects with a mean age at the time of MDO of 41±32 days. Prior to MDO, PRS mandibles had a smaller condylar articulating surface area and volume than age-matched control mandibles, with a more laterally positioned condylar axis (P≤0.05). Following MDO, there were significant increases in condylar articulating surface area and volume, approaching those of normal controls, with further lateral translation of the condylar axis (P≤0.05). Condyle and glenoid fossa morphology is largely normalized following early MDO in infants with PRS. The condylar axis translates laterally as a result of MDO; this change is not observed with mandibular growth in infants without PRS.\r\n",
      "32800917!!Women's perspective on the COVID-19 pandemic: Walking into a post-peak phase.!!The pandemic of Novel Coronavirus Disease 2019 (COVID-19), caused by severe acute respiratory syndrome coronavirus 2 (SARS-CoV-2), has provoked hundreds of thousands of deaths, resulting in catastrophe for humans. Although some insights have been garnered in studies on women, children and young adults infected with COVID-19, these often remain fragmented in literature. Therefore, we discussed the impact of COVID-19 pandemic on women, children and young patients, particularly those with underlying cardiovascular comorbidities or congenital heart disease. Furthermore, we gathered and distilled the existing body of literature that describes their cardiovascular complications and the recommended actions in favour of those patients toward the post-peak pandemic period. Although many questions still require answers, this article is sought to help the practicing clinician in the understanding and management of the threatening disease in special populations.\r\n",
      "32772565!!Idiopathic Subglottic Stenosis during Pregnancy: A Support Group Survey.!!(1) To determine how pregnancy affects idiopathic subglottic stenosis (iSGS) symptoms. (2) To determine treatments utilized (including operating room (OR) and in-office procedures) for iSGS before, during, and after pregnancy. analyses were completed.  > .05). This survey reveals worsening of symptoms during pregnancy, however, this did not lead to increase in operative or clinic interventions to improve airway symptoms during pregnancy. Future avenues for research include optimizing management of airway symptoms during pregnancy to limit OR-based interventions. Level IV.\r\n",
      "32772440!!Common variants of EDA are associated with non-syndromic hypodontia.!!The aim of this case-control study was to investigate the association between non-syndromic hypodontia and nineteen common variants of candidate genes ectodysplasin A (EDA), paired box 9 (PAX9), msh homeobox 1 (MSX1) and axis inhibition protein 2 (AXIN2). Sixty-one hypodontia cases were frequency-matched to 253 controls with no missing teeth (excluding the third molars). Self-report data and DNA samples were collected from each participant. The sample had a mean age of 16.6 years (SD = 7.3), with most participants being female (59.6%), and of New Zealand European origin (75.4%). Using multiple logistic regression analysis, it was found that the T-allele of rs12853659 (EDA) and the G-allele of rs2428151 (EDA) were both associated with a higher risk of hypodontia (odds ratio, OR = 2.79, 95% CI = 1.11-7.01; and OR = 2.87, 95% CI = 1.04-7.94, respectively). The G-allele of rs2520378 (EDA) showed a protective effect with an OR of 0.61 (95% CI = 0.38-0.99). The EDA SNP findings were consistent with previous reports included in a meta-analysis. No associations were found with the PAX9, AXIN2 and MSX1 genes, after adjusting for sex and ethnicity. Common variants of the EDA genes are associated with specific phenotypes of non-syndromic hypodontia, thus confirming their role in the regulatory pathways of normal tooth development. However, larger samples are needed to investigate the association further.\r\n",
      "32768305 32631658!!Commentary: Adapting the practice of congenital heart surgery to the coronavirus disease 2019 (COVID-19) pandemic.!!Abstract Not Available\r\n",
      "32758385!!A comparative study of three palatoplasty techniques in wide cleft palates.!!test were used to explore and compare the rates of complications among the three surgical techniques. No statistically significant difference in sex, age at repair, cleft width, or cleft Veau type was found among the three groups. Rates of wound dehiscence at 1 week and fistula formation at 3 months after the surgery also did not differ significantly among the three techniques. However, velopharyngeal function for speech was better in patients who underwent MPFZP compared to the other two techniques (P<0.05). The repair of a wide cleft palate can be difficult due to the tension at closure. Although the study findings did not demonstrate a difference in complication rates among the three techniques, MPFZP appears to have the best functional outcomes in patients with a cleft palate wider than 8mm.\r\n",
      "32711998 32631658!!Commentary: The importance of operative timing in the era of coronavirus disease 2019 (COVID-19).!!Abstract Not Available\r\n",
      "32660811!!Evaluation of positional cranial deformities: the non-expert perspective.!!The relevance of positional cranial deformity remains a controversial topic. While many specialists support therapeutic intervention with a helmet for severe cases, some are convinced that fears are exaggerated and helmets are unnecessary. In this study, 395 unaffected laypeople were interviewed for their opinion. Standardized photographs of 10 children with different degrees of positional deformity were presented in a randomized order. Values from the literature served as the normal reference (cranial index: 85%; cranial vault asymmetry index: 3.5%). Deformity was regarded as obviously abnormal when at least 50% of the respondents perceived the head as conspicuous. The cut-off value for a therapeutic recommendation was set at 25%. All heads above the reference values were perceived as significantly abnormal by most laypeople, independent of the severity of the deformity. Laypeople saw a need to treat all abnormal infant heads (plagiocephaly: 51.1-72.9%; brachycephaly: 59.5-62.0%; combination: 37.2%). The study results confirmed the existing reference values. Since very mild deformities were perceived as conspicuous and worth treating by the laypeople, the problem is clinically relevant and should not be underestimated. Treatment should therefore be offered regularly. Depending on the severity of the deformity, treatment options may range from conservative therapy (physiotherapy, positioning) to head orthoses in more severe cases.\r\n",
      "32631658 32711994 32711998 32768305!!COVID-19 as a confounding factor in a child submitted to staged surgical palliation of hypoplastic left heart syndrome: One of the first reports of SARS-CoV-2 infection in patients with congenital heart disease.!!Abstract Not Available\r\n",
      "32619300!!Proteomic and Genomic Methylation Signatures of Idiopathic Subglottic Stenosis.!!Idiopathic subglottic stenosis (iSGS) is a chronic inflammatory condition that causes dyspnea and affects middle-aged women of White race and non-Latino or Hispanic ethnicity. To better characterize its phenotype and pathogenesis, we assessed the proteomic and genomic methylation signatures of subglottic tissue collected from iSGS patients compared to controls. Molecular analysis of clinical biospecimens. We collected subglottic tissue biopsies from 12 patients during direct laryngoscopy, immediately prior to surgical treatment of iSGS; as well as from 4 age-, sex-, and race/ethnicity-matched control patients undergoing other direct laryngoscopic procedures. We isolated protein and genomic DNA, acquired proteomic data using label-free quantitative mass spectrometry techniques, and acquired genome-wide methylation data using bisulfite conversion and a microarray platform. We compared molecular profiles across the iSGS and control groups, and with respect to clinical course in the iSGS group. Eight of the 12 iSGS patients underwent subsequent blood collection and plasma isolation for further assessment. Proteomic analysis revealed 42 differentially abundant proteins in the iSGS biopsies compared to controls, inferring enrichment of biological pathways associated with early wound healing, innate immunity, matrix remodeling, and metabolism. Proteome-based hierarchical clustering organized patients into two iSGS and one control subgroups. Methylation analysis revealed five hypermethylated genes in the iSGS biopsies compared to controls, including the biotin recycling enzyme biotinidase (BTD). Follow-up analysis showed elevated plasma BTD activity in iSGS patients compared to both controls and published normative data. iSGS exhibits distinct proteomic and genomic methylation signatures. These signatures expand current understanding of the iSGS phenotype, support the possibility of disease subgroups, and should inform the direction of future experimental studies. Not applicable Laryngoscope, 131:E540-E546, 2021.\r\n",
      "32607831!!Subjective perception of craniofacial growth asymmetries in patients with deformational plagiocephaly.!!The present investigation aimed to evaluate the subjective perception of deformational cranial asymmetries by different observer groups and to compare these subjective perceptions with objective parameters. The 3D datasets of ten infants with different severities of deformational plagiocephaly (DP) were presented to 203 observers, who had been subdivided into five different groups (specialists, pediatricians, medical doctors (not pediatricians), parents of infants with DP, and laypersons). The observers rated their subjective perception of the infants' cranial asymmetries using a 4-point Likert-type scale. The ratings from the observer groups were compared with one another using a multilevel modelling linear regression analysis and were correlated with four commonly used parameters to objectively quantify the cranial asymmetries. No significant differences were found between the ratings of the specialists and those of the parents of infants with DP, but both groups provided significantly more asymmetric ratings than did pediatricians, medical doctors, or laypersons. Moreover, the subjective perception of cranial asymmetries correlated significantly with commonly used parameters for objectively quantifying cranial asymmetries. Our results demonstrate that different observer groups perceive the severity of cranial asymmetries differently. Pediatricians' more moderate perception of cranial asymmetries may reduce the likelihood of parents to seek therapeutic interventions for their infants. Moreover, we identified some objective symmetry-related parameters that correlated strongly with the observers' subjective perceptions. Knowledge about these findings is important for clinicians when educating parents of infants with DP about the deformity.\r\n",
      "32605823!!Nasolabial shape and aesthetics in unilateral cleft lip and palate: an analysis of nasolabial shape using a mean 3D facial template.!!=0.066). In conclusion, except for nasal profile, nasolabial aesthetics were not influenced by the extent of shape differences from the average non-cleft face.\r\n",
      "32599036 32454021!!3D Printing for AAOCA: The future Is (Not Quite) Here.!!Abstract Not Available\r\n",
      "32561030!!Pediatric Surgery Simulation-Based Training for the General Surgery Resident.!!Surgical simulation-based training (SBT) can increase resident confidence and improve performance. SBT in pediatric surgery is in its infancy and often geared toward training pediatric surgery fellows. Since case volume for various pediatric surgery-specific procedures can be low based on the rarity of the pathology involved and the level of care provided by the institution, our aim was to create a pediatric surgery simulation-based curriculum for general surgery residents to address this need. We performed an institutional needs assessment consisting of 4 pediatric surgeons' and 28 general surgery residents' confidence in resident ability to independently perform pediatric surgery-specific tasks and procedures using a Likert-scaled survey. These included the placement of a silastic silo for gastroschisis, a percutaneous drain for perforated necrotizing enterocolitis, and completion of a laparoscopic pyloromyotomy for pyloric stenosis. Models simulating these pathologies and curriculum for performing each procedure were generated. We successfully created a model and SBT curriculum to teach general surgery residents how to place a silastic silo for patients with gastroschisis, a percutaneous drain for patients with perforated necrotizing enterocolitis, and how to complete a laparoscopic pyloromyotomy for patients with pyloric stenosis. These were deemed high fidelity models based on a survey of our pediatric surgeons. We created a pediatric surgery SBT curriculum for general surgery residents, which can be used to supplement learning of various high-acuity, low-occurrence procedures. Assessment of residents and validation of scores is underway.\r\n",
      "32556577!!Quality of life in early age Spanish children treated for cleft lip and/or palate: a case-control study approach.!!The objectives of this study were to evaluate health-related quality of life (HRQoL) in 4-7-year-old children treated for cleft lip and/or palate (CL/P) compared to healthy controls and to estimate a possible association with cleft type, gender, age, and surgical re-interventions. A total of 171 children with CL/P (mean age 5.7 years) and 186 healthy controls (mean age 5.5 years) were included in the study. Sixty-four (37.4%) children experienced both cleft lip and palate, 56 (32.8%) cleft lip only, and 51 (29.8%) cleft palate only. HRQoL in children was assessed by Kiddy-KINDL and COHIP-14 questionnaires and in parents by KINDL-p. Total score and dimensions of each questionnaire were compared between cleft children, their parents, and controls. The total scores and dimension scores of Kiddy-KINDL showed similar values between CL/P and control groups, except for \"self-esteem\" dimension (p = 0.036). The comparison of Kiddy-KINDL and KINDL-p showed a statistically significant total score (82.11 vs. 80.44, p = 0.047). The CL/P group presented significantly worse values with respect to controls in total score of COHIP-14 (10.53 vs 5.01, p < 0.001) and in all its dimensions. Children treated for CL/P had a negative impact on HRQoL at early age compared to controls. Significant differences were found in the psychological and functional dimensions related to lip and palatal affectation, respectively. Parents reported significantly worse scores than their children. HRQoL measurement provided valuable complementary information to better inform to parents and make clinical decisions in children with CL/P at early age. Our findings suggested that Spanish children between 4 and 7 years of age with a history of surgically treated CL/P experienced a poorer HRQoL when compared with their non-cleft peers.\r\n",
      "32533778!!Endoscopic Z-plasty for Treatment of Supraglottic Stenosis: Experience on Nine Patients.!!Supraglottic stenosis is a rare type of laryngeal stenosis that is caused by congenital laryngotracheal anomalies, iatrogenic instrumentation injuries, autoimmune disorders, infection, irradiation, chemical or thermal burns, and external blunt or penetrating trauma. The author presents his experience on nine patients using this new endoscopic surgical technique for treatment of supraglottic stenosis. Individual retrospective cohort study, tertiary referral center, university hospital. All cases of supraglottic laryngeal stenosis treated during a 10-year period at a tertiary academic medical center were reviewed. Nine patients with supraglottic stenosis treated with endoscopic uni- or bilateral z-plasty technique were determined and presented. The etiology of stenosis was iatrogenic surgical trauma in seven patients, laryngeal fracture in one patient, and systemic lupus erythematosus in the other patient. Main outcome measures were respiratory function test results, absence of dyspnea on exertion, and decannulation if tracheotomy was present preoperatively. Seven patients with tracheotomy were decannulated 1 month after surgery. All nine patients had adequate airway and were dyspnea-free. Their preop respiratory function test results improved significantly postoperatively (P < .05). For supraglottic stenosis endoscopic surgery using mucosal flaps in the form of z-plasty should be considered within the available surgical techniques. Although this type of surgery is highly successful, it is technically difficult to apply. 4 Laryngoscope, 131:E534-E539, 2021.\r\n",
      "32533772!!Endoscopic Multimodal Approach to the Treatment of Airway Venous Malformations.!!Abstract Not Available\r\n",
      "32505338!!Avascular necrosis in cleft maxillary repositioning: a review of cases and introduction of the 'delayed maxillary flap'.!!There is a low incidence of serious complications with the Le Fort I maxillary osteotomy, but avascular necrosis is a serious problem that occurs at a higher frequency in the cleft population compared to non-cleft patients. In this retrospective study, cleft patients who had exhibited any manifestation of avascular necrosis of the maxilla following a Le Fort I advancement were identified. Five patients were found to have had vascular compromise, ranging from loss of gingival tissue to necrosis of bone and loss of teeth. In each case, possible risk factors were assessed, and secondary revision palatal surgery prior to maxillary advancement, particularly closure of oronasal fistulae with transpositional flaps, was noted to be present. Drawing on this finding and a review of the literature, clinical recommendations are made for minimizing the risk of this major complication. The use of the 'delayed maxillary flap' technique is introduced and described as a potentially beneficial procedure for cleft patients with a high risk of vascular compromise.\r\n",
      "32488725!!\"Idiopathic\" partial androgen insensitivity syndrome in 11 grandsons of women treated by diethylstilbestrol during gestation: a multi-generational impact of endocrine disruptor contamination?!!Abstract Not Available\r\n",
      "32369195!!Laryngotracheal Mucosal Surface Expression of Candidate Biomarkers in Idiopathic Subglottic Stenosis.!!Idiopathic subglottic stenosis (iSGS) is an inflammatory process leading to fibrosis and narrowing of the laryngotracheal airway. There is variability in patient response to surgical intervention, but the mechanisms underlying this variability are unknown. In this pilot study, we measure expression of candidate targets at the mucosal surface of the subglottis in iSGS patients. We aim to identify putative biomarkers for iSGS that provide insights into the molecular basis of disease progression, yield a gene signature for the disease, and/or predict a response to therapy. In vitro comparative study of human cells. Levels of candidate transcripts and proteins were measured in healthy and stenotic laryngotracheal tissue specimens taken from the mucosal surface in 16 iSGS patients undergoing endoscopic balloon dilation. Pre- and post-operative pulmonary function test and patient reported voice and breathing outcomes were also assessed. Unsupervised clustering was used to define patient subgroups based on expression profile. Pulmonary function and voice and breathing outcome metrics demonstrated significant post-operative improvement. Transcript levels of αSMA, CCL2, COL1A1, COL3A1, FN1, IFNG, and TGFB1 and protein levels of CCL2, IFNG, and IL-6 were significantly upregulated in stenotic as compared to healthy tissues. Marked heterogeneity was observed in the patterns of expression of candidate markers across individuals and tissue types. Patient subgroups defined by expression profile did not show a statistically significant difference in dilation interval. Pro-inflammatory and pro-fibrotic pathways are significantly upregulated along the mucosal surface of stenotic laryngotracheal tissues, and CCL2 and IFNG merit further investigation as potential iSGS biomarkers. 4 Laryngoscope, 131:342-349, 2021.\r\n",
      "32348547!!Should We Routinely Use Pulmonary Function Testing in the Management of Subglottic Stenosis?!!Abstract Not Available\r\n",
      "32327397!!Safety signals for QT prolongation or Torsades de Pointes associated with azithromycin with or without chloroquine or hydroxychloroquine.!!Combinations of hydroxychloroquine (HCQ) and azithromycin have been promoted as treatments for COVID-19 based on small, uncontrolled clinical trials that have not assessed potential risks. Risks of treatment include QT segment prolongation, Torsades de Pointes (TdP), and death. This comparative pharmacovigilance analysis evaluated the risk of these events. Data from the U.S. Food and Drug Administration's Adverse Event Reporting System (FAERS) (>13 million total reports) were used. Queries extracted reports based on exposures of HCQ/chloroquine (CQ) alone, azithromycin alone, HCQ/CQ + azithromycin, amoxicillin alone, HCQ/CQ + amoxicillin alone. Amoxicillin served as a control. Events of interest included death and TdP/QT prolongation as well as accidents/injuries and depression as control events. Proportional Reporting Ratios (PRR) and 95% confidence intervals (CI) were calculated where a lower limit of the of 95% CI (Lower95CI) value of ≥2.0 is interpreted as a potential safety signal. Lower95CIs for HCQ/CQ alone showed no potential safety signals for TdP/QT prolongation, death, or any of the control events included. The PRRs and 95% CIs for TdP/QT prolongation was 1.43 (1.29-2.59) with HCQ/CQ use alone and 4.10 (3.80-4.42) for azithromycin alone. For the combined HCQ/CQ + azithromycin group, the PRR and 95% CI was 3.77 (1.80-7.87). For the control of amoxicillin, there were no safety signals when used alone or in combination with HCQ/CQ. HCQ/CQ use was not associated with a safety signal in this analysis of FAERS data. However, azithromycin used alone was associated with TdP/QT prolongation events and should be used with caution.\r\n",
      "31184530!!Treatment of acrodermatitis continua of hallopeau with ixekizumab.!!Acrodermatitis continua of hallopeau (ACH) is a rare chronic inflammatory variant of pustular psoriasis often restricted to the distal portions the digits in the hands and feet. ACH is of a chronic relapsing nature and is invariably recalcitrant to many available topical and systemic anti-psoriatic therapies. On account of its low prevalence and high resistance to treatments, no clinical guideline of ACH exists. We present a patient with ACH resistant to multiple therapies, including the biologic adalimumab, who was successfully treated with an IL-17 inhibitor (ixekizumab). We believe our unique treatment with an excellent outcome may assist other dermatologists if faced with this condition.\r\n",
      "30280950!!Neonatal epidermolysis bullosa: lessons to learn about genetic counseling.!!Epidermolysis Bullosa (EB) is a heterogeneous group of congenital blistering diseases that usually presents in the neonatal period. EB is classified into three major categories, each with many subtypes based on the precise location at which separation or blistering occurs, namely epidermolysis bullosa simplex (EBS), junctional epidermolysis bullosa (JEB) and dystrophic epidermolysis bullosa (DEB). We describe genetics of neonatal EB in Hong Kong. Two neonates of consanguineous Pakistani parents had the EB-Pyloric Atresia (EB-PA) variant. One had a 4 kb homozygous deletion of exon 19-25 of the ITGB4 gene, and the other with only a histopathological diagnosis. Both died of sepsis in infancy. Aberrant COL7A1 mutations in the dominant and recessive EB were described. Genetic analysis, together with histopathological classification is important to aid prognosis and counseling. JEB and EB-PA are associated with consanguinity and mortality during infancy. Morbidity and prognosis of the autosomal dominant DEB are optimistic. The autosomal recessive DEB is more severe, with neonatal onset and recurrent blistering. It is also associated with chronicity and malignant changes when the child reaches adulthood. Exact genetic diagnosis aids in counseling of the family concerning the prognosis in the affected child and the risk of affected children in future pregnancies.\r\n"
     ]
    }
   ],
   "source": [
    "!esearch -db pubmed -query \"\\\"Congenital Abnormalities\\\"[Mesh] AND  human[Mesh] AND English[Language]\" -days 30 -sort \"Relevance\"| efetch -format xml |xtract -pattern PubmedArticle -sep \" \" -def \"Abstract Not Available\" -tab \"!!\" -element PMID  ArticleTitle  AbstractText "
   ]
  },
  {
   "cell_type": "code",
   "execution_count": 46,
   "metadata": {},
   "outputs": [
    {
     "name": "stdout",
     "output_type": "stream",
     "text": [
      "2482 ../data/CoginitalAbnormalities02.txt\r\n"
     ]
    }
   ],
   "source": [
    "# download abstracts from last 365 days\n",
    "!esearch -db pubmed -query \"\\\"Congenital Abnormalities\\\"[Mesh] AND  human[Mesh] AND English[Language]\" -days 200 -sort \"Relevance\"| efetch -format xml |xtract -pattern PubmedArticle -sep \" \" -def \"Abstract Not Available\" -tab \"!Split!\" -element PMID  ArticleTitle  AbstractText >../data/CoginitalAbnormalities02.txt\n",
    "!wc -l ../data/CoginitalAbnormalities02.txt"
   ]
  },
  {
   "cell_type": "markdown",
   "metadata": {},
   "source": [
    "## 1.3 Research design & data collection - Abstracts containing congenital anomalies caused by drug usage"
   ]
  },
  {
   "cell_type": "markdown",
   "metadata": {},
   "source": [
    "Keywords: \n",
    "\n",
    "MeSH: ( \"Congenital Abnormalities/drug effects\"[Mesh] OR  \"Congenital Abnormalities/drug therapy\"[Mesh] )"
   ]
  },
  {
   "cell_type": "code",
   "execution_count": 38,
   "metadata": {},
   "outputs": [
    {
     "name": "stdout",
     "output_type": "stream",
     "text": [
      "<ENTREZ_DIRECT>\r\n",
      "  <Db>pubmed</Db>\r\n",
      "  <WebEnv>MCID_6026ab084219e634805a35d5</WebEnv>\r\n",
      "  <QueryKey>1</QueryKey>\r\n",
      "  <Count>2904</Count>\r\n",
      "  <Step>1</Step>\r\n",
      "</ENTREZ_DIRECT>\r\n"
     ]
    }
   ],
   "source": [
    "!esearch -db pubmed -query \"(\\\"Congenital Abnormalities/drug effects\\\"[Mesh] OR \\\"Congenital Abnormalities/drug therapy\\\"[Mesh] ) AND  human[Mesh] AND English[Language]\" -days 2500"
   ]
  },
  {
   "cell_type": "code",
   "execution_count": 44,
   "metadata": {},
   "outputs": [
    {
     "name": "stdout",
     "output_type": "stream",
     "text": [
      "33280207!!Hydroxychloroquine/azithromycin treatment, QT interval and ventricular arrhythmias in hospitalised patients with COVID-19.!!Hydroxychloroquine (HCQ) and azithromycin (AZM) are widely used in off-label treatment of novel coronavirus disease (COVID-19). However, cardiac safety of these drugs is still controversial in COVID-19. Therefore, we aimed to evaluate association of HCQ or HCQ + AZM treatment regimens, corrected QT (QTc) interval and malignant ventricular arrhythmias in hospitalized patients. This is a single-center, retrospective and observational study. All data were extracted from the electronic medical records. The initial and post-treatment mean QTc intervals were calculated and compared in patients with HCQ alone or HCQ + AZM therapy. Associated factors with QTc prolongation, the incidence of ventricular arrhythmia during treatment and in-hospital mortality because of ventricular arrhythmias were evaluated. Our cohort comprised 101 hospitalized COVID-19 patients (mean age of 49.60 ± 18 years, 54.4% men). HCQ + AZM combination therapy group (n = 56) was more likely to have comorbidities. After 5-days treatment, 19 (18.8%) patients had QTc prolongation, and significant increase in the QTc interval was observed in both two groups (P < .001). However, HCQ + AZM combination group had significantly higher ΔQTc compared to HCQ group (22.5 ± 18.4 vs 7.5 ± 15.3 ms, P < .001). All of 101 patients completed the 5-days treatment without interruption. Also, no malignant ventricular arrhythmia or death secondary to ventricular arrhythmia occurred during the treatment in both groups. The present study revealed that although HCQ + AZM treatment was independently associated with QTc prolongation, none of patients experienced malignant ventricular arrhythmia or death during treatment. Further prospective studies are needed to determine the exact implications of these drugs on arrhythmias in patients with COVID-19.\n",
      "32956782!!Assessing QT interval in COVID-19 patients:safety of hydroxychloroquine-azithromycin combination regimen.!!Hydroxychloroquine (HCQ) and azithromycin (AZT) have been proposed for COVID-19 treatment. Data available in the literature reported a potential increased risk of fatal arrhythmias under these therapies. The aim of this study was to assess the effects of these drugs on QT interval and outcome in a COVID-19 population. A total of 112 consecutive COVID-19 patients were included in this analysis and were divided in 3 groups according to the receiving therapeutic regimens: 19 (17%) patients in Group 1 (no treatment), 40 (36%) in Group 2 (HCQ only), 53 (47%) in Group 3 (HCQ/AZT). A prolonged QTc interval was found in 61% of patients treated with HCQ alone or in combination with AZT, but only 4 (4%) patients showed a QTc > 500 ms. HCQ/AZT combination determined a greater increase of QTc duration compared to the other two strategies (Group 3 452 ± 26.4 vs Group 2 436.3 ± 28.4 vs Group 1 424.4 ± 24.3 ms, respectively; p < 0.001). Multivariate analysis demonstrated that HCQ/AZT combination (OR 9.02, p = 0.001) and older age (OR 1.04, p = 0.031) were independent predictors of QTc prolongation. The risk increased with age (incremental utility analysis p = 0.02). Twenty patients (18%) died, and no cardiac arrest neither arrhythmic fatalities were documented. The HCQ/AZT combination therapy causes a significantly increase of QT interval compared to HCQ alone. Older patients under such regimen are at higher risk of experiencing QT prolongation. The use of such drugs may be considered as safe relating to arrhythmic risk in the treatment of COVID-19 patients as no arrhythmic fatalities occurred.\n",
      "32902886!!Voice-Related Quality of Life in Idiopathic Subglottic Stenosis: Effect of Serial Intralesional Steroid Injections.!!Serial intralesional steroid injection (SILSI) is an emerging treatment for idiopathic subglottic stenosis (ISGS), providing improvement in both subjective symptoms and objective airflow parameters. Little is known about how this airway remodeling affects the voice. This project analyzes subjective voice changes after SILSI and correlates these with airflow parameters. An ISGS database containing voice-related quality of life (V-RQOL) and spirometry (peak expiratory flow percentage [%PEF]) was retrospectively queried. Included were ISGS patients from 2009 to 2019 who had at least one SILSI treatment. Encounters without complete data were excluded. Differences between preprocedure and postprocedure metrics were calculated. Correlations and nonparametric bivariate analysis were performed. Six hundred and seventeen steroid injections were performed in 55 patients, with an average of 3.5 years of follow-up. The average V-RQOL for all patient encounters, both pre- and postprocedure, showed little subjective dysphonia (83.5 of 100, 95% confidence interval [CI] 81.6 to 85.4). Considering SILSI-only treatments, there were 143 encounters with full data; of these, V-RQOL improved in 70 (49.0%), did not change in 40 (28.0%), and worsened in 33 (23.0%). Average V-RQOL improvement for the entire cohort was 1.9 points (95% CI: 0.7 to 3.2), which was small but significant (P = .0003). Across all data, there was a weak but significant correlation between PEF% and V-RQOL (ρ = 0.22, P = .0043). SILSI was associated with improvement in subjective voice ratings in about half of patients, and the improvement correlated with improved airflow measurements. This research adds to the growing body of data regarding SILSI and suggests that further work on functional changes to the larynx with airway remodeling is imperative. 4 Laryngoscope, 131:366-369, 2021.\n",
      "31184530!!Treatment of acrodermatitis continua of hallopeau with ixekizumab.!!Acrodermatitis continua of hallopeau (ACH) is a rare chronic inflammatory variant of pustular psoriasis often restricted to the distal portions the digits in the hands and feet. ACH is of a chronic relapsing nature and is invariably recalcitrant to many available topical and systemic anti-psoriatic therapies. On account of its low prevalence and high resistance to treatments, no clinical guideline of ACH exists. We present a patient with ACH resistant to multiple therapies, including the biologic adalimumab, who was successfully treated with an IL-17 inhibitor (ixekizumab). We believe our unique treatment with an excellent outcome may assist other dermatologists if faced with this condition.\n"
     ]
    }
   ],
   "source": [
    "!esearch -db pubmed -query \"(\\\"Congenital Abnormalities/drug effects\\\"[Mesh] OR \\\"Congenital Abnormalities/drug therapy\\\"[Mesh] ) AND  human[Mesh] AND English[Language]\" -days 15 -sort \"Relevance\"| efetch -format xml |xtract -pattern PubmedArticle -sep \" \" -def \"Abstract Not Available\" -tab \"!!\" -element PMID  ArticleTitle  AbstractText "
   ]
  },
  {
   "cell_type": "code",
   "execution_count": 45,
   "metadata": {},
   "outputs": [
    {
     "name": "stdout",
     "output_type": "stream",
     "text": [
      "2911 ../data/CoginitalAbnormalitiesDrug02.txt\r\n"
     ]
    }
   ],
   "source": [
    "# download abstracts \n",
    "!esearch -db pubmed -query \"(\\\"Congenital Abnormalities/drug effects\\\"[Mesh] OR \\\"Congenital Abnormalities/drug therapy\\\"[Mesh] )  AND  human[Mesh] AND English[Language]\" -days 2500 -sort \"Relevance\"| efetch -format xml |xtract -pattern PubmedArticle -sep \" \" -def \"Abstract Not Available\" -tab \"!Split!\" -element PMID  ArticleTitle  AbstractText >../data/CoginitalAbnormalitiesDrug02.txt\n",
    "!wc -l ../data/CoginitalAbnormalitiesDrug02.txt"
   ]
  },
  {
   "cell_type": "markdown",
   "metadata": {},
   "source": [
    "## 1.4 Research design & data collection - Abstracts containing other topics/subjects"
   ]
  },
  {
   "cell_type": "code",
   "execution_count": 51,
   "metadata": {},
   "outputs": [
    {
     "name": "stdout",
     "output_type": "stream",
     "text": [
      "<ENTREZ_DIRECT>\r\n",
      "  <Db>pubmed</Db>\r\n",
      "  <WebEnv>MCID_6026aec3f503130e03179946</WebEnv>\r\n",
      "  <QueryKey>1</QueryKey>\r\n",
      "  <Count>4101</Count>\r\n",
      "  <Step>1</Step>\r\n",
      "</ENTREZ_DIRECT>\r\n"
     ]
    }
   ],
   "source": [
    "!esearch -db pubmed -query \"human[Mesh] AND English[Language] NOT (\\\"Congenital Abnormalities\\\"[Mesh] \\\n",
    "        OR \\\"Drug-Related Side Effects and Adverse Reactions\\\"[Mesh])\" -days 11"
   ]
  },
  {
   "cell_type": "code",
   "execution_count": 40,
   "metadata": {},
   "outputs": [
    {
     "name": "stdout",
     "output_type": "stream",
     "text": [
      "4415 ../data/all_others.txt\r\n"
     ]
    }
   ],
   "source": [
    "# download abstracts \n",
    "!esearch -db pubmed -query \"human[Mesh] AND English[Language] NOT (\\\"Congenital Abnormalities\\\"[Mesh] \\\n",
    "        OR \\\"Drug-Related Side Effects and Adverse Reactions\\\"[Mesh])\" -days 15 -sort \"Relevance\"| efetch -format xml |xtract -pattern PubmedArticle -sep \" \" -def \"Abstract Not Available\" -tab \"!Split!\" -element PMID  ArticleTitle  AbstractText >../data/all_others.txt\n",
    "!wc -l ../data/all_others.txt"
   ]
  },
  {
   "cell_type": "markdown",
   "metadata": {},
   "source": [
    "# Task 2 Classification Model Development"
   ]
  },
  {
   "cell_type": "code",
   "execution_count": 17,
   "metadata": {},
   "outputs": [],
   "source": [
    "import pandas as pd"
   ]
  },
  {
   "cell_type": "code",
   "execution_count": 52,
   "metadata": {},
   "outputs": [
    {
     "data": {
      "text/html": [
       "<div>\n",
       "<style scoped>\n",
       "    .dataframe tbody tr th:only-of-type {\n",
       "        vertical-align: middle;\n",
       "    }\n",
       "\n",
       "    .dataframe tbody tr th {\n",
       "        vertical-align: top;\n",
       "    }\n",
       "\n",
       "    .dataframe thead th {\n",
       "        text-align: right;\n",
       "    }\n",
       "</style>\n",
       "<table border=\"1\" class=\"dataframe\">\n",
       "  <thead>\n",
       "    <tr style=\"text-align: right;\">\n",
       "      <th></th>\n",
       "      <th>PMID</th>\n",
       "      <th>ArticleTitle</th>\n",
       "      <th>AbstractText</th>\n",
       "      <th>Label</th>\n",
       "    </tr>\n",
       "  </thead>\n",
       "  <tbody>\n",
       "    <tr>\n",
       "      <th>0</th>\n",
       "      <td>33530226</td>\n",
       "      <td>Efficacy and safety of TCM therapies combined ...</td>\n",
       "      <td>Gastric cancer (GC) has high incidence and mor...</td>\n",
       "      <td>Adverse Drug Effect</td>\n",
       "    </tr>\n",
       "    <tr>\n",
       "      <th>1</th>\n",
       "      <td>33530221</td>\n",
       "      <td>Traditional Chinese medicine on treating myelo...</td>\n",
       "      <td>Myelosuppression after chemotherapy is a commo...</td>\n",
       "      <td>Adverse Drug Effect</td>\n",
       "    </tr>\n",
       "    <tr>\n",
       "      <th>2</th>\n",
       "      <td>33530168</td>\n",
       "      <td>The laser combined with intravitreal injection...</td>\n",
       "      <td>At present, laser is regarded as an effective ...</td>\n",
       "      <td>Adverse Drug Effect</td>\n",
       "    </tr>\n",
       "    <tr>\n",
       "      <th>3</th>\n",
       "      <td>33526722</td>\n",
       "      <td>PHOTODYNAMIC THERAPY IN TREATMENT OF PATIENTS ...</td>\n",
       "      <td>The aim of the study is to evaluate the tolera...</td>\n",
       "      <td>Adverse Drug Effect</td>\n",
       "    </tr>\n",
       "    <tr>\n",
       "      <th>4</th>\n",
       "      <td>33517299</td>\n",
       "      <td>Adverse Events and Economic Burden Among Patie...</td>\n",
       "      <td>Limited published real-world data describe adv...</td>\n",
       "      <td>Adverse Drug Effect</td>\n",
       "    </tr>\n",
       "    <tr>\n",
       "      <th>5</th>\n",
       "      <td>33514507</td>\n",
       "      <td>Association between human papillomavirus vacci...</td>\n",
       "      <td>To evaluate the association between human papi...</td>\n",
       "      <td>Adverse Drug Effect</td>\n",
       "    </tr>\n",
       "    <tr>\n",
       "      <th>6</th>\n",
       "      <td>33509333</td>\n",
       "      <td>Pulmonary Manifestations of Rheumatoid Arthritis.</td>\n",
       "      <td>In order for pharmacists to better assist prov...</td>\n",
       "      <td>Adverse Drug Effect</td>\n",
       "    </tr>\n",
       "    <tr>\n",
       "      <th>7</th>\n",
       "      <td>33506948</td>\n",
       "      <td>Safety and efficacy of oral lopinavir/ritonavi...</td>\n",
       "      <td>Because of the limited treatment options avail...</td>\n",
       "      <td>Adverse Drug Effect</td>\n",
       "    </tr>\n",
       "    <tr>\n",
       "      <th>8</th>\n",
       "      <td>33503163</td>\n",
       "      <td>Adverse drug reactions in patients with COVID-...</td>\n",
       "      <td>In March 2020, the World Health Organization a...</td>\n",
       "      <td>Adverse Drug Effect</td>\n",
       "    </tr>\n",
       "    <tr>\n",
       "      <th>9</th>\n",
       "      <td>33500617</td>\n",
       "      <td>Reactive Oxygen Species-Mediated Inflammation ...</td>\n",
       "      <td>(PEGylated liposomal doxorubicin, PLD) has bee...</td>\n",
       "      <td>Adverse Drug Effect</td>\n",
       "    </tr>\n",
       "  </tbody>\n",
       "</table>\n",
       "</div>"
      ],
      "text/plain": [
       "       PMID                                       ArticleTitle  \\\n",
       "0  33530226  Efficacy and safety of TCM therapies combined ...   \n",
       "1  33530221  Traditional Chinese medicine on treating myelo...   \n",
       "2  33530168  The laser combined with intravitreal injection...   \n",
       "3  33526722  PHOTODYNAMIC THERAPY IN TREATMENT OF PATIENTS ...   \n",
       "4  33517299  Adverse Events and Economic Burden Among Patie...   \n",
       "5  33514507  Association between human papillomavirus vacci...   \n",
       "6  33509333  Pulmonary Manifestations of Rheumatoid Arthritis.   \n",
       "7  33506948  Safety and efficacy of oral lopinavir/ritonavi...   \n",
       "8  33503163  Adverse drug reactions in patients with COVID-...   \n",
       "9  33500617  Reactive Oxygen Species-Mediated Inflammation ...   \n",
       "\n",
       "                                        AbstractText                Label  \n",
       "0  Gastric cancer (GC) has high incidence and mor...  Adverse Drug Effect  \n",
       "1  Myelosuppression after chemotherapy is a commo...  Adverse Drug Effect  \n",
       "2  At present, laser is regarded as an effective ...  Adverse Drug Effect  \n",
       "3  The aim of the study is to evaluate the tolera...  Adverse Drug Effect  \n",
       "4  Limited published real-world data describe adv...  Adverse Drug Effect  \n",
       "5  To evaluate the association between human papi...  Adverse Drug Effect  \n",
       "6  In order for pharmacists to better assist prov...  Adverse Drug Effect  \n",
       "7  Because of the limited treatment options avail...  Adverse Drug Effect  \n",
       "8  In March 2020, the World Health Organization a...  Adverse Drug Effect  \n",
       "9  (PEGylated liposomal doxorubicin, PLD) has bee...  Adverse Drug Effect  "
      ]
     },
     "execution_count": 52,
     "metadata": {},
     "output_type": "execute_result"
    }
   ],
   "source": [
    "#import AE data\n",
    "df_ae = pd.read_csv('../data/ADE02.txt', sep = \"!Split!\", header = None, engine = 'python', encoding = 'latin-1')\n",
    "df_ae.columns = ['PMID',  'ArticleTitle',  'AbstractText']\n",
    "df_ae['Label'] = 'Adverse Drug Effect'\n",
    "df_ae.head(10)"
   ]
  },
  {
   "cell_type": "code",
   "execution_count": 53,
   "metadata": {},
   "outputs": [
    {
     "data": {
      "text/plain": [
       "(2508, 4)"
      ]
     },
     "execution_count": 53,
     "metadata": {},
     "output_type": "execute_result"
    }
   ],
   "source": [
    "# Get names of indexes for which Abstract is not available\n",
    "indexAbsNA = df_ae[df_ae['AbstractText'] == 'Abstract Not Available' ].index\n",
    "# Delete these row indexes from dataFrame\n",
    "df_ae.drop(indexAbsNA , inplace=True)\n",
    "df_ae.shape"
   ]
  },
  {
   "cell_type": "code",
   "execution_count": 54,
   "metadata": {},
   "outputs": [
    {
     "data": {
      "text/html": [
       "<div>\n",
       "<style scoped>\n",
       "    .dataframe tbody tr th:only-of-type {\n",
       "        vertical-align: middle;\n",
       "    }\n",
       "\n",
       "    .dataframe tbody tr th {\n",
       "        vertical-align: top;\n",
       "    }\n",
       "\n",
       "    .dataframe thead th {\n",
       "        text-align: right;\n",
       "    }\n",
       "</style>\n",
       "<table border=\"1\" class=\"dataframe\">\n",
       "  <thead>\n",
       "    <tr style=\"text-align: right;\">\n",
       "      <th></th>\n",
       "      <th>PMID</th>\n",
       "      <th>ArticleTitle</th>\n",
       "      <th>AbstractText</th>\n",
       "      <th>Label</th>\n",
       "    </tr>\n",
       "  </thead>\n",
       "  <tbody>\n",
       "    <tr>\n",
       "      <th>0</th>\n",
       "      <td>33546838 32709578 33546839</td>\n",
       "      <td>Nasoalveolar molding appliances.</td>\n",
       "      <td>Abstract Not Available</td>\n",
       "      <td>Coginital Abnormalities</td>\n",
       "    </tr>\n",
       "    <tr>\n",
       "      <th>1</th>\n",
       "      <td>33534013</td>\n",
       "      <td>Management of the Transitional Urology Patient...</td>\n",
       "      <td>Patients with congenital urologic conditions p...</td>\n",
       "      <td>Coginital Abnormalities</td>\n",
       "    </tr>\n",
       "    <tr>\n",
       "      <th>2</th>\n",
       "      <td>33530157</td>\n",
       "      <td>Comparison of the 1-year survival rate in infa...</td>\n",
       "      <td>The impact of prenatal diagnosis on the surviv...</td>\n",
       "      <td>Coginital Abnormalities</td>\n",
       "    </tr>\n",
       "    <tr>\n",
       "      <th>3</th>\n",
       "      <td>33525390</td>\n",
       "      <td>Multifactorial Rare Diseases: Can Uncertainty ...</td>\n",
       "      <td>Uncertainty analysis is the process of identif...</td>\n",
       "      <td>Coginital Abnormalities</td>\n",
       "    </tr>\n",
       "    <tr>\n",
       "      <th>4</th>\n",
       "      <td>33523758 32343594 33523757</td>\n",
       "      <td>Radiographic Measures Predicting Failure of Ar...</td>\n",
       "      <td>Abstract Not Available</td>\n",
       "      <td>Coginital Abnormalities</td>\n",
       "    </tr>\n",
       "  </tbody>\n",
       "</table>\n",
       "</div>"
      ],
      "text/plain": [
       "                         PMID  \\\n",
       "0  33546838 32709578 33546839   \n",
       "1                    33534013   \n",
       "2                    33530157   \n",
       "3                    33525390   \n",
       "4  33523758 32343594 33523757   \n",
       "\n",
       "                                        ArticleTitle  \\\n",
       "0                   Nasoalveolar molding appliances.   \n",
       "1  Management of the Transitional Urology Patient...   \n",
       "2  Comparison of the 1-year survival rate in infa...   \n",
       "3  Multifactorial Rare Diseases: Can Uncertainty ...   \n",
       "4  Radiographic Measures Predicting Failure of Ar...   \n",
       "\n",
       "                                        AbstractText                    Label  \n",
       "0                             Abstract Not Available  Coginital Abnormalities  \n",
       "1  Patients with congenital urologic conditions p...  Coginital Abnormalities  \n",
       "2  The impact of prenatal diagnosis on the surviv...  Coginital Abnormalities  \n",
       "3  Uncertainty analysis is the process of identif...  Coginital Abnormalities  \n",
       "4                             Abstract Not Available  Coginital Abnormalities  "
      ]
     },
     "execution_count": 54,
     "metadata": {},
     "output_type": "execute_result"
    }
   ],
   "source": [
    "#import Coginital Abnormalities data\n",
    "df_cogabnormal = pd.read_csv('../data/CoginitalAbnormalities02.txt', sep = \"!Split!\", header = None, engine = 'python', encoding = 'latin-1')\n",
    "df_cogabnormal.columns = ['PMID',  'ArticleTitle',  'AbstractText']\n",
    "df_cogabnormal['Label'] = 'Coginital Abnormalities'\n",
    "df_cogabnormal.head()"
   ]
  },
  {
   "cell_type": "code",
   "execution_count": 55,
   "metadata": {},
   "outputs": [
    {
     "data": {
      "text/html": [
       "<div>\n",
       "<style scoped>\n",
       "    .dataframe tbody tr th:only-of-type {\n",
       "        vertical-align: middle;\n",
       "    }\n",
       "\n",
       "    .dataframe tbody tr th {\n",
       "        vertical-align: top;\n",
       "    }\n",
       "\n",
       "    .dataframe thead th {\n",
       "        text-align: right;\n",
       "    }\n",
       "</style>\n",
       "<table border=\"1\" class=\"dataframe\">\n",
       "  <thead>\n",
       "    <tr style=\"text-align: right;\">\n",
       "      <th></th>\n",
       "      <th>PMID</th>\n",
       "      <th>ArticleTitle</th>\n",
       "      <th>AbstractText</th>\n",
       "      <th>Label</th>\n",
       "    </tr>\n",
       "  </thead>\n",
       "  <tbody>\n",
       "    <tr>\n",
       "      <th>1</th>\n",
       "      <td>33534013</td>\n",
       "      <td>Management of the Transitional Urology Patient...</td>\n",
       "      <td>Patients with congenital urologic conditions p...</td>\n",
       "      <td>Coginital Abnormalities</td>\n",
       "    </tr>\n",
       "    <tr>\n",
       "      <th>2</th>\n",
       "      <td>33530157</td>\n",
       "      <td>Comparison of the 1-year survival rate in infa...</td>\n",
       "      <td>The impact of prenatal diagnosis on the surviv...</td>\n",
       "      <td>Coginital Abnormalities</td>\n",
       "    </tr>\n",
       "    <tr>\n",
       "      <th>3</th>\n",
       "      <td>33525390</td>\n",
       "      <td>Multifactorial Rare Diseases: Can Uncertainty ...</td>\n",
       "      <td>Uncertainty analysis is the process of identif...</td>\n",
       "      <td>Coginital Abnormalities</td>\n",
       "    </tr>\n",
       "    <tr>\n",
       "      <th>6</th>\n",
       "      <td>33516176</td>\n",
       "      <td>\"Mine did not breastfeed\", mothers' experience...</td>\n",
       "      <td>Appropriate breastfeeding is vital for infant ...</td>\n",
       "      <td>Coginital Abnormalities</td>\n",
       "    </tr>\n",
       "    <tr>\n",
       "      <th>7</th>\n",
       "      <td>33516175</td>\n",
       "      <td>Monozygotic twins discordant for homologous Ro...</td>\n",
       "      <td>Monozygotic twins are nearly identical in geno...</td>\n",
       "      <td>Coginital Abnormalities</td>\n",
       "    </tr>\n",
       "  </tbody>\n",
       "</table>\n",
       "</div>"
      ],
      "text/plain": [
       "       PMID                                       ArticleTitle  \\\n",
       "1  33534013  Management of the Transitional Urology Patient...   \n",
       "2  33530157  Comparison of the 1-year survival rate in infa...   \n",
       "3  33525390  Multifactorial Rare Diseases: Can Uncertainty ...   \n",
       "6  33516176  \"Mine did not breastfeed\", mothers' experience...   \n",
       "7  33516175  Monozygotic twins discordant for homologous Ro...   \n",
       "\n",
       "                                        AbstractText                    Label  \n",
       "1  Patients with congenital urologic conditions p...  Coginital Abnormalities  \n",
       "2  The impact of prenatal diagnosis on the surviv...  Coginital Abnormalities  \n",
       "3  Uncertainty analysis is the process of identif...  Coginital Abnormalities  \n",
       "6  Appropriate breastfeeding is vital for infant ...  Coginital Abnormalities  \n",
       "7  Monozygotic twins are nearly identical in geno...  Coginital Abnormalities  "
      ]
     },
     "execution_count": 55,
     "metadata": {},
     "output_type": "execute_result"
    }
   ],
   "source": [
    "# Get names of indexes for which Abstract is not available\n",
    "indexAbsNA = df_cogabnormal[df_cogabnormal['AbstractText'] == 'Abstract Not Available' ].index\n",
    "# Delete these row indexes from dataFrame\n",
    "df_cogabnormal.drop(indexAbsNA , inplace=True)\n",
    "df_cogabnormal.head()"
   ]
  },
  {
   "cell_type": "code",
   "execution_count": 56,
   "metadata": {},
   "outputs": [
    {
     "data": {
      "text/plain": [
       "(1928, 4)"
      ]
     },
     "execution_count": 56,
     "metadata": {},
     "output_type": "execute_result"
    }
   ],
   "source": [
    "df_cogabnormal.shape"
   ]
  },
  {
   "cell_type": "code",
   "execution_count": 57,
   "metadata": {},
   "outputs": [
    {
     "data": {
      "text/html": [
       "<div>\n",
       "<style scoped>\n",
       "    .dataframe tbody tr th:only-of-type {\n",
       "        vertical-align: middle;\n",
       "    }\n",
       "\n",
       "    .dataframe tbody tr th {\n",
       "        vertical-align: top;\n",
       "    }\n",
       "\n",
       "    .dataframe thead th {\n",
       "        text-align: right;\n",
       "    }\n",
       "</style>\n",
       "<table border=\"1\" class=\"dataframe\">\n",
       "  <thead>\n",
       "    <tr style=\"text-align: right;\">\n",
       "      <th></th>\n",
       "      <th>PMID</th>\n",
       "      <th>ArticleTitle</th>\n",
       "      <th>AbstractText</th>\n",
       "      <th>Label</th>\n",
       "    </tr>\n",
       "  </thead>\n",
       "  <tbody>\n",
       "    <tr>\n",
       "      <th>0</th>\n",
       "      <td>33488018</td>\n",
       "      <td>Intravitreal Triamcinolone Acetonide in Von Hi...</td>\n",
       "      <td>von Hippel-Lindau (VHL) is a multisystemic inh...</td>\n",
       "      <td>Coginital Abnormalities-Drug</td>\n",
       "    </tr>\n",
       "    <tr>\n",
       "      <th>1</th>\n",
       "      <td>33471705</td>\n",
       "      <td>Aromatase Inhibitor Increases the Height of Pa...</td>\n",
       "      <td>Patients with 21-hydroxylase deficiency (21OHD...</td>\n",
       "      <td>Coginital Abnormalities-Drug</td>\n",
       "    </tr>\n",
       "    <tr>\n",
       "      <th>2</th>\n",
       "      <td>33451341</td>\n",
       "      <td>Suicidal attempt with caffeine overdose treate...</td>\n",
       "      <td>Caffeine is a widely used dietary stimulant, a...</td>\n",
       "      <td>Coginital Abnormalities-Drug</td>\n",
       "    </tr>\n",
       "    <tr>\n",
       "      <th>3</th>\n",
       "      <td>33429762</td>\n",
       "      <td>Effect of dexmedetomidine on perioperative hem...</td>\n",
       "      <td>This study aimed to investigate the effects of...</td>\n",
       "      <td>Coginital Abnormalities-Drug</td>\n",
       "    </tr>\n",
       "    <tr>\n",
       "      <th>4</th>\n",
       "      <td>33399834</td>\n",
       "      <td>Management of Patients With a Patent Foramen O...</td>\n",
       "      <td>Abstract Not Available</td>\n",
       "      <td>Coginital Abnormalities-Drug</td>\n",
       "    </tr>\n",
       "  </tbody>\n",
       "</table>\n",
       "</div>"
      ],
      "text/plain": [
       "       PMID                                       ArticleTitle  \\\n",
       "0  33488018  Intravitreal Triamcinolone Acetonide in Von Hi...   \n",
       "1  33471705  Aromatase Inhibitor Increases the Height of Pa...   \n",
       "2  33451341  Suicidal attempt with caffeine overdose treate...   \n",
       "3  33429762  Effect of dexmedetomidine on perioperative hem...   \n",
       "4  33399834  Management of Patients With a Patent Foramen O...   \n",
       "\n",
       "                                        AbstractText  \\\n",
       "0  von Hippel-Lindau (VHL) is a multisystemic inh...   \n",
       "1  Patients with 21-hydroxylase deficiency (21OHD...   \n",
       "2  Caffeine is a widely used dietary stimulant, a...   \n",
       "3  This study aimed to investigate the effects of...   \n",
       "4                             Abstract Not Available   \n",
       "\n",
       "                          Label  \n",
       "0  Coginital Abnormalities-Drug  \n",
       "1  Coginital Abnormalities-Drug  \n",
       "2  Coginital Abnormalities-Drug  \n",
       "3  Coginital Abnormalities-Drug  \n",
       "4  Coginital Abnormalities-Drug  "
      ]
     },
     "execution_count": 57,
     "metadata": {},
     "output_type": "execute_result"
    }
   ],
   "source": [
    "#import Coginital Abnormalities due to drug usage\n",
    "df_cogabnormalds = pd.read_csv('../data/CoginitalAbnormalitiesDrug02.txt', sep = \"!Split!\", header = None, engine = 'python', encoding = 'latin-1')\n",
    "df_cogabnormalds.columns = ['PMID',  'ArticleTitle',  'AbstractText']\n",
    "df_cogabnormalds['Label'] = 'Coginital Abnormalities-Drug'\n",
    "df_cogabnormalds.head()"
   ]
  },
  {
   "cell_type": "code",
   "execution_count": 59,
   "metadata": {},
   "outputs": [
    {
     "data": {
      "text/plain": [
       "(2434, 4)"
      ]
     },
     "execution_count": 59,
     "metadata": {},
     "output_type": "execute_result"
    }
   ],
   "source": [
    "# Get names of indexes for which Abstract is not available\n",
    "indexAbsNA = df_cogabnormalds[df_cogabnormalds['AbstractText'] == 'Abstract Not Available' ].index\n",
    "# Delete these row indexes from dataFrame\n",
    "df_cogabnormalds.drop(indexAbsNA , inplace=True)\n",
    "df_cogabnormalds.shape"
   ]
  },
  {
   "cell_type": "code",
   "execution_count": 70,
   "metadata": {},
   "outputs": [
    {
     "data": {
      "text/html": [
       "<div>\n",
       "<style scoped>\n",
       "    .dataframe tbody tr th:only-of-type {\n",
       "        vertical-align: middle;\n",
       "    }\n",
       "\n",
       "    .dataframe tbody tr th {\n",
       "        vertical-align: top;\n",
       "    }\n",
       "\n",
       "    .dataframe thead th {\n",
       "        text-align: right;\n",
       "    }\n",
       "</style>\n",
       "<table border=\"1\" class=\"dataframe\">\n",
       "  <thead>\n",
       "    <tr style=\"text-align: right;\">\n",
       "      <th></th>\n",
       "      <th>PMID</th>\n",
       "      <th>ArticleTitle</th>\n",
       "      <th>AbstractText</th>\n",
       "      <th>Label</th>\n",
       "    </tr>\n",
       "  </thead>\n",
       "  <tbody>\n",
       "    <tr>\n",
       "      <th>0</th>\n",
       "      <td>33564949</td>\n",
       "      <td>Spatio-temporal trends in the flow and water q...</td>\n",
       "      <td>Urban rivers are major victims of pollution an...</td>\n",
       "      <td>All Others</td>\n",
       "    </tr>\n",
       "    <tr>\n",
       "      <th>1</th>\n",
       "      <td>33563613 33414102</td>\n",
       "      <td>Differentiating torus fractures from other wri...</td>\n",
       "      <td>Abstract Not Available</td>\n",
       "      <td>All Others</td>\n",
       "    </tr>\n",
       "    <tr>\n",
       "      <th>2</th>\n",
       "      <td>33563306 32891170</td>\n",
       "      <td>Letter on \"(1,3)-Î²-D-Glucan-based empirical a...</td>\n",
       "      <td>Abstract Not Available</td>\n",
       "      <td>All Others</td>\n",
       "    </tr>\n",
       "    <tr>\n",
       "      <th>3</th>\n",
       "      <td>33563305 32678054</td>\n",
       "      <td>Septic shock, noradrenaline requirements and a...</td>\n",
       "      <td>Abstract Not Available</td>\n",
       "      <td>All Others</td>\n",
       "    </tr>\n",
       "    <tr>\n",
       "      <th>4</th>\n",
       "      <td>33560499</td>\n",
       "      <td>Organization of antibiotic stewardship in Euro...</td>\n",
       "      <td>It is more than two decades ago that aÂ Europe...</td>\n",
       "      <td>All Others</td>\n",
       "    </tr>\n",
       "    <tr>\n",
       "      <th>5</th>\n",
       "      <td>33559561</td>\n",
       "      <td>Safe surgical tracheostomy in patients with CO...</td>\n",
       "      <td>Surgical tracheostomy is a high aerosol-genera...</td>\n",
       "      <td>All Others</td>\n",
       "    </tr>\n",
       "    <tr>\n",
       "      <th>6</th>\n",
       "      <td>33559558</td>\n",
       "      <td>The effect of the COVID-19 pandemic on mental ...</td>\n",
       "      <td>Non-injury-related factors have been extensive...</td>\n",
       "      <td>All Others</td>\n",
       "    </tr>\n",
       "    <tr>\n",
       "      <th>7</th>\n",
       "      <td>33559552</td>\n",
       "      <td>Evidence-based review of safe theatre practice...</td>\n",
       "      <td>COVID-19 remains a threat for a fear of a seco...</td>\n",
       "      <td>All Others</td>\n",
       "    </tr>\n",
       "    <tr>\n",
       "      <th>8</th>\n",
       "      <td>33559543</td>\n",
       "      <td>St Andrew's COVID-19 surgery safety study: han...</td>\n",
       "      <td>Adaptation is vital to ensure successful healt...</td>\n",
       "      <td>All Others</td>\n",
       "    </tr>\n",
       "    <tr>\n",
       "      <th>9</th>\n",
       "      <td>33558261 33561814</td>\n",
       "      <td>Elimination of covid-19: a practical roadmap b...</td>\n",
       "      <td>Abstract Not Available</td>\n",
       "      <td>All Others</td>\n",
       "    </tr>\n",
       "  </tbody>\n",
       "</table>\n",
       "</div>"
      ],
      "text/plain": [
       "                PMID                                       ArticleTitle  \\\n",
       "0           33564949  Spatio-temporal trends in the flow and water q...   \n",
       "1  33563613 33414102  Differentiating torus fractures from other wri...   \n",
       "2  33563306 32891170  Letter on \"(1,3)-Î²-D-Glucan-based empirical a...   \n",
       "3  33563305 32678054  Septic shock, noradrenaline requirements and a...   \n",
       "4           33560499  Organization of antibiotic stewardship in Euro...   \n",
       "5           33559561  Safe surgical tracheostomy in patients with CO...   \n",
       "6           33559558  The effect of the COVID-19 pandemic on mental ...   \n",
       "7           33559552  Evidence-based review of safe theatre practice...   \n",
       "8           33559543  St Andrew's COVID-19 surgery safety study: han...   \n",
       "9  33558261 33561814  Elimination of covid-19: a practical roadmap b...   \n",
       "\n",
       "                                        AbstractText       Label  \n",
       "0  Urban rivers are major victims of pollution an...  All Others  \n",
       "1                             Abstract Not Available  All Others  \n",
       "2                             Abstract Not Available  All Others  \n",
       "3                             Abstract Not Available  All Others  \n",
       "4  It is more than two decades ago that aÂ Europe...  All Others  \n",
       "5  Surgical tracheostomy is a high aerosol-genera...  All Others  \n",
       "6  Non-injury-related factors have been extensive...  All Others  \n",
       "7  COVID-19 remains a threat for a fear of a seco...  All Others  \n",
       "8  Adaptation is vital to ensure successful healt...  All Others  \n",
       "9                             Abstract Not Available  All Others  "
      ]
     },
     "execution_count": 70,
     "metadata": {},
     "output_type": "execute_result"
    }
   ],
   "source": [
    "#import others data\n",
    "df_others = pd.read_csv('../data/all_others.txt', sep = \"!Split!\", header = None, engine = 'python', encoding = 'latin-1')\n",
    "df_others.columns = ['PMID',  'ArticleTitle',  'AbstractText']\n",
    "df_others['Label'] = 'All Others'\n",
    "df_others.head(10)"
   ]
  },
  {
   "cell_type": "code",
   "execution_count": 71,
   "metadata": {},
   "outputs": [
    {
     "data": {
      "text/plain": [
       "(3183, 4)"
      ]
     },
     "execution_count": 71,
     "metadata": {},
     "output_type": "execute_result"
    }
   ],
   "source": [
    "# Get names of indexes for which Abstract is not available\n",
    "indexAbsNA = df_others[df_others['AbstractText'] == 'Abstract Not Available' ].index\n",
    "# Delete these row indexes from dataFrame\n",
    "df_others.drop(indexAbsNA , inplace=True)\n",
    "df_others.shape"
   ]
  },
  {
   "cell_type": "markdown",
   "metadata": {},
   "source": [
    "### combine data"
   ]
  },
  {
   "cell_type": "code",
   "execution_count": 72,
   "metadata": {},
   "outputs": [],
   "source": [
    "df_asbtract_combined = pd.concat([df_ae, df_cogabnormal ,df_cogabnormalds, df_others])"
   ]
  },
  {
   "cell_type": "code",
   "execution_count": 73,
   "metadata": {},
   "outputs": [
    {
     "data": {
      "text/plain": [
       "(10053, 4)"
      ]
     },
     "execution_count": 73,
     "metadata": {},
     "output_type": "execute_result"
    }
   ],
   "source": [
    "df_asbtract_combined.shape"
   ]
  },
  {
   "cell_type": "code",
   "execution_count": 78,
   "metadata": {},
   "outputs": [
    {
     "data": {
      "image/png": "[encoded data removed]",
      "text/plain": [
       "<Figure size 720x432 with 1 Axes>"
      ]
     },
     "metadata": {
      "needs_background": "light"
     },
     "output_type": "display_data"
    }
   ],
   "source": [
    "import seaborn as sns\n",
    "import matplotlib.pyplot as plt\n",
    "\n",
    "%matplotlib inline\n",
    "\n",
    "plt.figure(figsize = (10,6))\n",
    "ax = sns.countplot(x=\"Label\",data=df_asbtract_combined)"
   ]
  },
  {
   "cell_type": "code",
   "execution_count": 79,
   "metadata": {},
   "outputs": [],
   "source": [
    "df_asbtract_combined.to_pickle(\"../data/df_pubmed_asbtract_combined.pkl\")"
   ]
  },
  {
   "cell_type": "code",
   "execution_count": 58,
   "metadata": {},
   "outputs": [],
   "source": [
    "#df_pubmed_asbtract_combined = pd.read_pickle(\"../data/df_pubmed_asbtract_combined.pkl\")"
   ]
  },
  {
   "cell_type": "code",
   "execution_count": 60,
   "metadata": {},
   "outputs": [],
   "source": [
    "#df_pubmed_asbtract_combined.head()"
   ]
  },
  {
   "cell_type": "markdown",
   "metadata": {},
   "source": [
    "### References"
   ]
  },
  {
   "cell_type": "markdown",
   "metadata": {},
   "source": []
  }
 ],
 "metadata": {
  "kernelspec": {
   "display_name": "Python 3",
   "language": "python",
   "name": "python3"
  },
  "language_info": {
   "codemirror_mode": {
    "name": "ipython",
    "version": 3
   },
   "file_extension": ".py",
   "mimetype": "text/x-python",
   "name": "python",
   "nbconvert_exporter": "python",
   "pygments_lexer": "ipython3",
   "version": "3.7.6"
  }
 },
 "nbformat": 4,
 "nbformat_minor": 2
}
